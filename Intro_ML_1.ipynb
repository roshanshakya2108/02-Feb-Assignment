{
 "cells": [
  {
   "cell_type": "markdown",
   "id": "0faebe8a-9280-4ffb-8e61-dce19ec84861",
   "metadata": {},
   "source": [
    "#Answer  1 :\n",
    "\n",
    "a) Artificial Intelligence (AI)\n",
    "Artificial Intelligence (AI) is the field of computer science focused on creating systems capable of performing tasks that typically require human intelligence. These tasks include learning, reasoning, problem-solving, understanding natural language, and perception.\n",
    "\n",
    "Example:\n",
    "AI in healthcare can be seen in diagnostic systems like IBM Watson Health, which analyzes medical records to provide treatment recommendations.\n",
    "\n",
    "b) Machine Learning (ML)\n",
    "Machine Learning (ML) is a subset of AI that involves training algorithms to learn from and make predictions or decisions based on data.\n",
    "\n",
    "Example:\n",
    "A spam email filter is a machine learning system that learns to identify and classify emails as spam or non-spam based on patterns in the data.\n",
    "\n",
    "c) Deep Learning (DL)\n",
    "Deep Learning (DL) is a subset of ML that uses neural networks with many layers (deep neural networks) to model complex patterns in large datasets.\n",
    "\n",
    "Example:\n",
    "DL is used in image recognition systems, such as Google's DeepMind, which can identify objects in images with high accuracy.\n"
   ]
  },
  {
   "cell_type": "markdown",
   "id": "749ce2f2-b78b-436b-a65c-c3fc13e0f968",
   "metadata": {},
   "source": [
    "#Answer 2  :\n",
    "\n",
    "Supervised learning is a type of machine learning where the model is trained on labeled data. This means that each training example is paired with an output label.\n",
    "\n",
    "Examples:\n",
    "\n",
    "Classification: Identifying whether an email is spam or not.\n",
    "Regression: Predicting house prices based on features like size, location, etc.\n",
    "Object Detection: Identifying and locating objects within an image.\n"
   ]
  },
  {
   "cell_type": "markdown",
   "id": "eea14408-e87e-4484-aae0-47c9cdd8d5a1",
   "metadata": {},
   "source": [
    "#Answer 3  :\n",
    "\n",
    "Unsupervised learning is a type of machine learning where the model is trained on unlabeled data. The system tries to learn patterns and the structure from the data without any specific outputs.\n",
    "\n",
    "Examples:\n",
    "\n",
    "Clustering: Grouping customers into different segments based on purchasing behavior.\n",
    "Anomaly Detection: Detecting unusual transactions in credit card data.\n",
    "Dimensionality Reduction: Reducing the number of features in a dataset, such as PCA (Principal Component Analysis).\n"
   ]
  },
  {
   "cell_type": "markdown",
   "id": "1917ec5e-6888-4202-ad5a-8b297fcacf35",
   "metadata": {},
   "source": [
    "#Answer  4 :\n",
    "\n",
    "Artificial Intelligence (AI): The broadest field, encompassing any technique that enables computers to mimic human intelligence.\n",
    "Machine Learning (ML): A subset of AI that focuses on the development of algorithms that allow computers to learn from and make decisions based on data.\n",
    "Deep Learning (DL): A subset of ML that uses deep neural networks with many layers to analyze various factors of data.\n",
    "Data Science (DS): An interdisciplinary field that uses statistical methods, algorithms, and systems to extract knowledge and insights from structured and unstructured data.\n"
   ]
  },
  {
   "cell_type": "markdown",
   "id": "e624daef-c732-4268-8f6f-89bdd2ed8356",
   "metadata": {},
   "source": [
    "#Answer 5  :\n",
    "\n",
    "Supervised Learning: Uses labeled data to train the model. The goal is to predict the output for new data based on the learned relationship.\n",
    "Unsupervised Learning: Uses unlabeled data to identify patterns and structure in the data. There are no predefined labels.\n",
    "Semi-Supervised Learning: Uses a combination of labeled and unlabeled data. Typically, a small amount of labeled data is used along with a large amount of unlabeled data.\n"
   ]
  },
  {
   "cell_type": "markdown",
   "id": "b92277ec-2094-45cf-a44b-c6adfe8b220a",
   "metadata": {},
   "source": [
    "#Answer  6 :\n",
    "\n",
    "Training Set: The portion of data used to train the model.\n",
    "Validation Set: The portion of data used to tune the model's hyperparameters and evaluate its performance during the training phase.\n",
    "Test Set: The portion of data used to assess the performance of the final model. It is used to simulate real-world data to evaluate how well the model generalizes.\n",
    "Importance:\n",
    "\n",
    "Training Set: Used to fit the model.\n",
    "Validation Set: Helps to prevent overfitting and to tune model parameters.\n",
    "Test Set: Provides an unbiased evaluation of the final model’s performance.\n"
   ]
  },
  {
   "cell_type": "markdown",
   "id": "38a2570c-5e37-423a-9f7c-8f2ef3b0989a",
   "metadata": {},
   "source": [
    "#Answer  7 :\n",
    "\n",
    "\n",
    "Unsupervised learning can be used in anomaly detection by identifying patterns in the data and then detecting deviations from these patterns. Algorithms like clustering or autoencoders can be trained on normal data, and any data point that significantly deviates from the learned patterns can be flagged as an anomaly.\n",
    "\n",
    "Example: Detecting fraudulent transactions by identifying unusual spending patterns."
   ]
  },
  {
   "cell_type": "markdown",
   "id": "cd83219e-e030-4495-adc0-383cb12beb29",
   "metadata": {},
   "source": [
    "#Answer 8  :\n",
    "\n",
    "Supervised Learning Algorithms:\n",
    "Linear Regression: For regression tasks.\n",
    "Logistic Regression: For binary classification tasks.\n",
    "Support Vector Machines (SVM): For classification tasks.\n",
    "Decision Trees: For both classification and regression tasks.\n",
    "Random Forest: An ensemble method for classification and regression tasks.\n",
    "Neural Networks: For complex tasks like image and speech recognition.\n",
    "Unsupervised Learning Algorithms:\n",
    "K-Means Clustering: For clustering tasks.\n",
    "Hierarchical Clustering: For clustering tasks.\n",
    "Principal Component Analysis (PCA): For dimensionality reduction.\n",
    "Autoencoders: For anomaly detection and data compression.\n",
    "Apriori Algorithm: For association rule learning in market basket analysis.\n"
   ]
  },
  {
   "cell_type": "code",
   "execution_count": null,
   "id": "a812135e-54f0-4fd0-8c27-239107579ecb",
   "metadata": {},
   "outputs": [],
   "source": []
  }
 ],
 "metadata": {
  "kernelspec": {
   "display_name": "Python 3 (ipykernel)",
   "language": "python",
   "name": "python3"
  },
  "language_info": {
   "codemirror_mode": {
    "name": "ipython",
    "version": 3
   },
   "file_extension": ".py",
   "mimetype": "text/x-python",
   "name": "python",
   "nbconvert_exporter": "python",
   "pygments_lexer": "ipython3",
   "version": "3.10.8"
  }
 },
 "nbformat": 4,
 "nbformat_minor": 5
}
