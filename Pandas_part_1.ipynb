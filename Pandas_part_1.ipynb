{
 "cells": [
  {
   "cell_type": "markdown",
   "id": "a97c2545-bdb6-459a-aca6-a68cfcf1add6",
   "metadata": {},
   "source": [
    "#Answer 1:\n",
    "\n",
    "Here are five common functions in the pandas library with examples of their execution:\n",
    "\n",
    "read_csv(): Reads a CSV file into a DataFrame.\n",
    "\n",
    "head(): Returns the first few rows of a DataFrame.\n",
    "\n",
    "describe(): Generates descriptive statistics.\n",
    "\n",
    "groupby(): Groups DataFrame using a mapper or by a Series of columns.\n",
    "\n",
    "merge(): Merges DataFrame or named Series objects.\n"
   ]
  },
  {
   "cell_type": "code",
   "execution_count": 3,
   "id": "04570da9-b6f1-47b7-902b-dd6c08737d3d",
   "metadata": {},
   "outputs": [
    {
     "name": "stdout",
     "output_type": "stream",
     "text": [
      "Reindexed DataFrame:\n",
      "    A  B  C\n",
      "1  1  4  7\n",
      "3  2  5  8\n",
      "5  3  6  9\n"
     ]
    }
   ],
   "source": [
    "#Answer 2 :\n",
    "import pandas as pd\n",
    "def reindex_dataframe(df):\n",
    "    df.index = range(1, 2 * len(df) + 1, 2)\n",
    "    return df\n",
    "\n",
    "df = pd.DataFrame({'A': [1, 2, 3], 'B': [4, 5, 6], 'C': [7, 8, 9]})\n",
    "print(\"Reindexed DataFrame:\\n\", reindex_dataframe(df))\n",
    "\n"
   ]
  },
  {
   "cell_type": "code",
   "execution_count": 4,
   "id": "a3bc2e5b-99ef-4f20-827e-64d96f3f2ce4",
   "metadata": {},
   "outputs": [
    {
     "name": "stdout",
     "output_type": "stream",
     "text": [
      "Sum of first three values: 60\n"
     ]
    }
   ],
   "source": [
    "#Answer 3 :\n",
    "\n",
    "\n",
    "def sum_first_three_values(df):\n",
    "    sum_values = df['Values'][:3].sum()\n",
    "    print(\"Sum of first three values:\", sum_values)\n",
    "\n",
    "# Example usage\n",
    "df = pd.DataFrame({'Values': [10, 20, 30, 40, 50]})\n",
    "sum_first_three_values(df)\n"
   ]
  },
  {
   "cell_type": "code",
   "execution_count": 5,
   "id": "c14391f8-ee2c-4a47-a1e5-6cf18b204ead",
   "metadata": {},
   "outputs": [
    {
     "name": "stdout",
     "output_type": "stream",
     "text": [
      "DataFrame with Word_Count:\n",
      "               Text  Word_Count\n",
      "0      Hello world           2\n",
      "1  Pandas is great           3\n",
      "2   This is a test           4\n"
     ]
    }
   ],
   "source": [
    "#Answer 4:\n",
    "\n",
    "def add_word_count_column(df):\n",
    "    df['Word_Count'] = df['Text'].apply(lambda x: len(str(x).split()))\n",
    "    return df\n",
    "\n",
    "# Example usage\n",
    "df = pd.DataFrame({'Text': ['Hello world', 'Pandas is great', 'This is a test']})\n",
    "print(\"DataFrame with Word_Count:\\n\", add_word_count_column(df))\n",
    "\n"
   ]
  },
  {
   "cell_type": "markdown",
   "id": "7210cabc-ac9e-49fb-8eb1-58c022a2b490",
   "metadata": {},
   "source": [
    "#Answer 5:\n",
    "\n",
    "DataFrame.size: Returns the number of elements in the DataFrame (rows * columns).\n",
    "\n",
    "DataFrame.shape: Returns a tuple representing the dimensionality of the DataFrame (number of rows, number of columns).\n"
   ]
  },
  {
   "cell_type": "markdown",
   "id": "ce00e4ae-0663-4b3f-898a-0a23c5b50d58",
   "metadata": {},
   "source": [
    "#Answer 6:\n",
    "The function to read an Excel file in pandas is pd.read_excel().\n",
    "\n"
   ]
  },
  {
   "cell_type": "code",
   "execution_count": 7,
   "id": "71777e36-a6d9-47de-92bb-eaffbe2b0104",
   "metadata": {},
   "outputs": [
    {
     "name": "stdout",
     "output_type": "stream",
     "text": [
      "DataFrame with Username:\n",
      "                    Email    Username\n",
      "0   john.doe@example.com    john.doe\n",
      "1  jane.smith@sample.org  jane.smith\n"
     ]
    }
   ],
   "source": [
    "#Answer 7:\n",
    "\n",
    "def add_username_column(df):\n",
    "    df['Username'] = df['Email'].apply(lambda x: x.split('@')[0])\n",
    "    return df\n",
    "\n",
    "# Example usage\n",
    "df = pd.DataFrame({'Email': ['john.doe@example.com', 'jane.smith@sample.org']})\n",
    "print(\"DataFrame with Username:\\n\", add_username_column(df))\n",
    "\n"
   ]
  },
  {
   "cell_type": "code",
   "execution_count": 9,
   "id": "2d2c8a44-250d-419c-b0d1-792886ab71d6",
   "metadata": {},
   "outputs": [
    {
     "name": "stdout",
     "output_type": "stream",
     "text": [
      "Selected rows:\n",
      "    A  B  C\n",
      "1  8  2  7\n",
      "2  6  9  4\n",
      "4  9  1  2\n"
     ]
    }
   ],
   "source": [
    "#Answer 8 :\n",
    "\n",
    "def select_rows(df):\n",
    "    new_df = df[(df['A'] > 5) & (df['B'] < 10)]\n",
    "    return new_df\n",
    "\n",
    "\n",
    "df = pd.DataFrame({'A': [3, 8, 6, 2, 9], 'B': [5, 2, 9, 3, 1], 'C': [1, 7, 4, 5, 2]})\n",
    "print(\"Selected rows:\\n\", select_rows(df))\n",
    "\n"
   ]
  },
  {
   "cell_type": "code",
   "execution_count": 10,
   "id": "d62e3f71-475b-4cfe-bfcc-ca0be9cb9fc8",
   "metadata": {},
   "outputs": [
    {
     "name": "stdout",
     "output_type": "stream",
     "text": [
      "Mean: 30.0, Median: 30.0, Standard Deviation: 15.811388300841896\n"
     ]
    }
   ],
   "source": [
    "#Answer 9:\n",
    "\n",
    "def calculate_statistics(df):\n",
    "    mean = df['Values'].mean()\n",
    "    median = df['Values'].median()\n",
    "    std_dev = df['Values'].std()\n",
    "    return mean, median, std_dev\n",
    "\n",
    "\n",
    "df = pd.DataFrame({'Values': [10, 20, 30, 40, 50]})\n",
    "mean, median, std_dev = calculate_statistics(df)\n",
    "print(f\"Mean: {mean}, Median: {median}, Standard Deviation: {std_dev}\")\n",
    "\n"
   ]
  },
  {
   "cell_type": "code",
   "execution_count": 12,
   "id": "a21d9cbf-4b63-4d35-ac9c-f7291e543917",
   "metadata": {},
   "outputs": [
    {
     "name": "stdout",
     "output_type": "stream",
     "text": [
      "DataFrame with MovingAverage:\n",
      "         Date  Sales  MovingAverage\n",
      "0 2023-01-01      1            NaN\n",
      "1 2023-01-02      2            NaN\n",
      "2 2023-01-03      3            NaN\n",
      "3 2023-01-04      4            NaN\n",
      "4 2023-01-05      5            NaN\n",
      "5 2023-01-06      6            NaN\n",
      "6 2023-01-07      7            4.0\n",
      "7 2023-01-08      8            5.0\n",
      "8 2023-01-09      9            6.0\n",
      "9 2023-01-10     10            7.0\n"
     ]
    }
   ],
   "source": [
    "#Answer 10:\n",
    "\n",
    "\n",
    "def add_moving_average(df):\n",
    "    df['MovingAverage'] = df['Sales'].rolling(window=7).mean()\n",
    "    return df\n",
    "\n",
    "\n",
    "df = pd.DataFrame({'Date': pd.date_range(start='2023-01-01', periods=10), 'Sales': [1, 2, 3, 4, 5, 6, 7, 8, 9, 10]})\n",
    "print(\"DataFrame with MovingAverage:\\n\", add_moving_average(df))\n"
   ]
  },
  {
   "cell_type": "code",
   "execution_count": 14,
   "id": "15c5fae4-9dde-46f7-938d-2a8309e07290",
   "metadata": {},
   "outputs": [
    {
     "name": "stdout",
     "output_type": "stream",
     "text": [
      "DataFrame with Weekday:\n",
      "          Date    Weekday\n",
      "0  2023-01-01     Sunday\n",
      "1  2023-01-02     Monday\n",
      "2  2023-01-03    Tuesday\n",
      "3  2023-01-04  Wednesday\n",
      "4  2023-01-05   Thursday\n"
     ]
    }
   ],
   "source": [
    "#Answer 11:\n",
    "\n",
    "\n",
    "def add_weekday_column(df):\n",
    "    df['Weekday'] = pd.to_datetime(df['Date']).dt.day_name()\n",
    "    return df\n",
    "\n",
    "\n",
    "df = pd.DataFrame({'Date': ['2023-01-01', '2023-01-02', '2023-01-03', '2023-01-04', '2023-01-05']})\n",
    "print(\"DataFrame with Weekday:\\n\", add_weekday_column(df))\n"
   ]
  },
  {
   "cell_type": "code",
   "execution_count": 16,
   "id": "2abc4997-23c1-417a-a6df-f9619be0ea8c",
   "metadata": {},
   "outputs": [
    {
     "name": "stdout",
     "output_type": "stream",
     "text": [
      "Rows with date between 2023-01-01 and 2023-01-31:\n",
      "          Date  Value\n",
      "0  2023-01-01      0\n",
      "1  2023-01-02      1\n",
      "2  2023-01-03      2\n",
      "3  2023-01-04      3\n",
      "4  2023-01-05      4\n",
      "5  2023-01-06      5\n",
      "6  2023-01-07      6\n",
      "7  2023-01-08      7\n",
      "8  2023-01-09      8\n",
      "9  2023-01-10      9\n",
      "10 2023-01-11     10\n",
      "11 2023-01-12     11\n",
      "12 2023-01-13     12\n",
      "13 2023-01-14     13\n",
      "14 2023-01-15     14\n",
      "15 2023-01-16     15\n",
      "16 2023-01-17     16\n",
      "17 2023-01-18     17\n",
      "18 2023-01-19     18\n",
      "19 2023-01-20     19\n",
      "20 2023-01-21     20\n",
      "21 2023-01-22     21\n",
      "22 2023-01-23     22\n",
      "23 2023-01-24     23\n",
      "24 2023-01-25     24\n",
      "25 2023-01-26     25\n",
      "26 2023-01-27     26\n",
      "27 2023-01-28     27\n",
      "28 2023-01-29     28\n",
      "29 2023-01-30     29\n",
      "30 2023-01-31     30\n"
     ]
    }
   ],
   "source": [
    "#Answer 12:\n",
    "\n",
    "\n",
    "def select_date_range(df):\n",
    "    mask = (df['Date'] >= '2023-01-01') & (df['Date'] <= '2023-01-31')\n",
    "    return df.loc[mask]\n",
    "\n",
    "\n",
    "df = pd.DataFrame({'Date': pd.date_range(start='2023-01-01', periods=40), 'Value': range(40)})\n",
    "print(\"Rows with date between 2023-01-01 and 2023-01-31:\\n\", select_date_range(df))\n"
   ]
  },
  {
   "cell_type": "markdown",
   "id": "5f2de282-62c0-49c6-952e-4765df23dc9a",
   "metadata": {},
   "source": [
    "#Answer 13:\n",
    "\n",
    "o use the basic functions of pandas, the first and foremost necessary library that needs to be imported is pandas. You can import it using:\n",
    "\n",
    "    \n",
    "    import pandas as pd\n"
   ]
  },
  {
   "cell_type": "code",
   "execution_count": null,
   "id": "e665c365-9963-4a91-97c4-e0ef405a3211",
   "metadata": {},
   "outputs": [],
   "source": []
  }
 ],
 "metadata": {
  "kernelspec": {
   "display_name": "Python 3 (ipykernel)",
   "language": "python",
   "name": "python3"
  },
  "language_info": {
   "codemirror_mode": {
    "name": "ipython",
    "version": 3
   },
   "file_extension": ".py",
   "mimetype": "text/x-python",
   "name": "python",
   "nbconvert_exporter": "python",
   "pygments_lexer": "ipython3",
   "version": "3.10.8"
  }
 },
 "nbformat": 4,
 "nbformat_minor": 5
}
