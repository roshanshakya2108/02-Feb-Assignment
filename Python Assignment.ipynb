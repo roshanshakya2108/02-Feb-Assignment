{
 "cells": [
  {
   "cell_type": "markdown",
   "id": "b9329e94-3143-4974-9ba2-58b125e25474",
   "metadata": {},
   "source": [
    "# Questions: \n",
    "1. Who developed Python Programming Language?\n",
    "\n",
    "2. Which type of Programming does Python support?\n",
    "\n",
    "3. Is Python case sensitive when dealing with identifiers?\n",
    "\n",
    "4. What is the correct extension of the Python file?\n",
    "\n",
    "5. Is Python code compiled or interpreted?\n",
    "\n",
    "6. Name a few blocks of code used to define in Python language?\n",
    "\n",
    "7. State a character used to give single-line comments in Python?\n",
    "\n",
    "8. Mention functions which can help us to find the version of python that we are currently working on?\n",
    "\n",
    "9. Python supports the creation of anonymous functions at runtime, using a construct called\n",
    "\n",
    "10. What does pip stand for python?\n",
    "\n",
    "11. Mention a few built-in functions in python?\n",
    "\n",
    "12. What is the maximum possible length of an identifier in Python?\n",
    "\n",
    "13. What are the benefits of using Python?\n",
    "\n",
    "14. How is memory managed in Python?\n",
    "\n",
    "15. How to install Python on Wintiows and set path variables?\n",
    "\n",
    "16. Is indentation required in python?"
   ]
  },
  {
   "cell_type": "markdown",
   "id": "f64bb82f-49fb-47cc-af69-83169263cf19",
   "metadata": {},
   "source": [
    "# Answers 1: \n",
    "\n",
    "Guido van Rossum is credited with creating Python in 1991."
   ]
  },
  {
   "cell_type": "markdown",
   "id": "d818e711-cea6-4f92-ad5c-4b9e26aa5336",
   "metadata": {},
   "source": [
    "# Answers 2: \n",
    "\n",
    "Python is a multi-paradigm language, meaning it can be used for various programming styles:\n",
    "Object-oriented programming (OOP): Organizing code around objects that encapsulate data and functionality.\n",
    "Procedural programming: Breaking down problems into step-by-step procedures or functions.\n",
    "Functional programming: Emphasizing using functions and avoiding mutable state."
   ]
  },
  {
   "cell_type": "markdown",
   "id": "299e4717-0ac8-4a40-b568-898c8d25643a",
   "metadata": {},
   "source": [
    "# Answers 3: \n",
    "\n",
    "Yes, Python is case-sensitive. name, Name, and NAME are considered different identifiers."
   ]
  },
  {
   "cell_type": "markdown",
   "id": "43cd0ea6-2a95-410b-8aae-3b97088f1f91",
   "metadata": {},
   "source": [
    "# Answers 4: \n",
    "\n",
    "The standard extension for Python files is .py."
   ]
  },
  {
   "cell_type": "markdown",
   "id": "4ee44cfd-44de-484d-884d-b1d37a98c844",
   "metadata": {},
   "source": [
    "# Answers 5: \n",
    "\n",
    "Python is an interpreted language. The code is translated line by line during execution, making it fast for development and prototyping."
   ]
  },
  {
   "cell_type": "markdown",
   "id": "f593e8ef-3d8d-4e75-a666-20431d3bab86",
   "metadata": {},
   "source": [
    "# Answers 6: \n",
    "\n",
    "Python uses keywords to define code blocks:\n",
    "if statements: Conditional execution based on boolean expressions.\n",
    "for loops: Iterating over sequences of elements.\n",
    "while loops: Repeating code as long as a condition is true.\n",
    "def statements: Defining functions, reusable blocks of code.\n",
    "class statements: Creating object-oriented classes."
   ]
  },
  {
   "cell_type": "markdown",
   "id": "6e954244-0460-4c24-877c-e4f599e3379a",
   "metadata": {},
   "source": [
    "# Answers 7: \n",
    "\n",
    "The # symbol is used for single-line comments. Everything after # on a line is ignored by the interpreter."
   ]
  },
  {
   "cell_type": "markdown",
   "id": "c646919d-4dce-49ab-8f8f-c6dde1e6b6ab",
   "metadata": {},
   "source": [
    "# Answers 8: \n",
    "\n",
    "You can use the following built-in modules to determine the Python version:\n",
    "import sys: The sys.version attribute provides the version information as a string.\n",
    "import platform: The platform.python_version() function returns the Python version as a tuple."
   ]
  },
  {
   "cell_type": "markdown",
   "id": "aa03d67d-6327-4d3d-9efc-26ecdd3c92ac",
   "metadata": {},
   "source": [
    "# Answers 9:\n",
    "Lambda functions (lambda expressions) allow you to define anonymous functions on the fly. They are concise for short, throwaway functions.# Answers 1: \n",
    "\n"
   ]
  },
  {
   "cell_type": "markdown",
   "id": "5ef73e42-d5e3-42e8-b496-35b2c1e17aeb",
   "metadata": {},
   "source": [
    "# Answers 10: \n",
    "\n",
    "pip is the recommended package installer for Python. It helps you manage external libraries and modules."
   ]
  },
  {
   "cell_type": "markdown",
   "id": "4aa63dfb-9612-46d6-b5ec-8b851fdcd698",
   "metadata": {},
   "source": [
    "# Answers 11: \n",
    "\n",
    "Python offers a rich set of built-in functions, including:\n",
    "print(): Outputs data to the console.\n",
    "input(): Gets user input from the console.\n",
    "len(): Returns the length of a sequence.\n",
    "range(): Generates a sequence of numbers.\n",
    "type(): Returns the data type of an object.\n",
    "And many more!"
   ]
  },
  {
   "cell_type": "markdown",
   "id": "dd1c5b16-9273-41b7-8de1-6fd793fa6dcd",
   "metadata": {},
   "source": [
    "# Answers 12: \n",
    "\n",
    "In practice, there's no strict limit on identifier length in Python. However, it's recommended to follow best practices for readability and avoid excessively long names."
   ]
  },
  {
   "cell_type": "markdown",
   "id": "152b768d-456c-4f4c-bf20-1f62731d0b1d",
   "metadata": {},
   "source": [
    "# Answers 13: \n",
    "\n",
    "Readability: Python's syntax is clear and concise, resembling natural language.\n",
    "Versatility: Suitable for various tasks like web development, data science, scripting, and more.\n",
    "Large standard library: Provides built-in modules for common functionalities.\n",
    "Extensive ecosystem: Abundant third-party libraries for additional features.\n",
    "Ease of learning: Friendly for beginners due to its relatively simple syntax."
   ]
  },
  {
   "cell_type": "markdown",
   "id": "7ed2be85-59bb-4d24-9b5d-fe175169fda0",
   "metadata": {},
   "source": [
    "# Answers 14: \n",
    "\n",
    "Python uses automatic garbage collection. The interpreter tracks object references and reclaims memory when objects are no longer needed."
   ]
  },
  {
   "cell_type": "markdown",
   "id": "eb8dec32-1c7d-4f88-a7a2-ccbdf6a55280",
   "metadata": {},
   "source": [
    "# Answers 15: \n",
    "\n",
    "Download the latest Python installer from https://www.python.org/downloads/.\n",
    "During installation, ensure you check the option to \"Add Python 3.x to PATH.\" This allows you to run Python from the command line from any directory."
   ]
  },
  {
   "cell_type": "markdown",
   "id": "77c1e507-1b09-46fe-963f-5bca239a602f",
   "metadata": {},
   "source": [
    "# Answers 16: \n",
    "\n",
    "Yes, indentation is crucial in Python. It defines code blocks instead of curly braces used in other languages. Consistent indentation is essential for proper program structure and execution."
   ]
  },
  {
   "cell_type": "code",
   "execution_count": null,
   "id": "25cfb55d-fd10-4d36-bc50-2a79a256579d",
   "metadata": {},
   "outputs": [],
   "source": []
  }
 ],
 "metadata": {
  "kernelspec": {
   "display_name": "Python 3 (ipykernel)",
   "language": "python",
   "name": "python3"
  },
  "language_info": {
   "codemirror_mode": {
    "name": "ipython",
    "version": 3
   },
   "file_extension": ".py",
   "mimetype": "text/x-python",
   "name": "python",
   "nbconvert_exporter": "python",
   "pygments_lexer": "ipython3",
   "version": "3.10.8"
  }
 },
 "nbformat": 4,
 "nbformat_minor": 5
}
