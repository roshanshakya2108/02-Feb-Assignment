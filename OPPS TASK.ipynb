{
 "cells": [
  {
   "cell_type": "markdown",
   "id": "8bfff2e2-0fb4-4198-a075-8c4488eee1ce",
   "metadata": {},
   "source": [
    "# QUESTIONS:\n",
    "\n",
    "Q1, Create a vehicle class with an init method having instance variables as name_of_vehicle, max_speed\n",
    "and average_of_vehicle.\n",
    "\n",
    "Q2. Create a child class car from the vehicle class created in Que 1, which will inherit the vehicle class.\n",
    "Create a method named seating_capacity which takes capacity as an argument and returns the name of\n",
    "the vehicle and its seating capacity.\n",
    "\n",
    "Q3. What is multiple inheritance? Write a python code to demonstrate multiple inheritance.\n",
    "\n",
    "Q4. What are getter and setter in python? Create a class and create a getter and a setter method in this\n",
    "class.\n",
    "\n",
    "Q5.What is method overriding in python? Write a python code to demonstrate method overriding."
   ]
  },
  {
   "cell_type": "markdown",
   "id": "011c1249-7993-4b55-a801-f7d1a08cd281",
   "metadata": {},
   "source": [
    "# Answers 1: \n",
    "\n",
    "\n",
    "class Vehicle:\n",
    "    def __init__(self, name_of_vehicle, max_speed, average):\n",
    "        self.name_of_vehicle = name_of_vehicle\n",
    "        self.max_speed = max_speed\n",
    "        self.average = average  # Assuming 'average' refers to fuel efficiency or mileage\n",
    "\n",
    "        # Consider adding data validation or type checking for robustness (optional)\n",
    "\n",
    "\n",
    "\n"
   ]
  },
  {
   "cell_type": "markdown",
   "id": "e946b1a2-7587-4396-b14c-721c766c886f",
   "metadata": {},
   "source": [
    "# Answers 1: \n",
    "\n",
    "class Car(Vehicle):\n",
    "    def __init__(self, name_of_vehicle, max_speed, average, seating_capacity):\n",
    "        super().__init__(name_of_vehicle, max_speed, average)\n",
    "        self.seating_capacity = seating_capacity\n",
    "\n",
    "    def seating_capacity(self, capacity=None):  # Allow optional capacity argument for flexibility\n",
    "        if capacity is not None:\n",
    "            self.seating_capacity = capacity  # Update seating capacity if provided\n",
    "        return f\"The {self.name_of_vehicle} has a seating capacity of {self.seating_capacity} passengers.\"\n",
    "\n"
   ]
  },
  {
   "cell_type": "markdown",
   "id": "8b900fdf-0927-45ec-a8c3-aeb8fa0ba3bd",
   "metadata": {},
   "source": [
    "# Answers 1: \n",
    "\n",
    "\n",
    "class Engine:\n",
    "    def __init__(self, fuel_type, horse_power):\n",
    "        self.fuel_type = fuel_type\n",
    "        self.horse_power = horse_power\n",
    "\n",
    "    def start(self):\n",
    "        print(f\"The {self.fuel_type} engine with {self.horse_power} HP is starting.\")\n",
    "\n",
    "class Transmission:\n",
    "    def __init__(self, number_of_gears):\n",
    "        self.number_of_gears = number_of_gears\n",
    "\n",
    "    def shift(self, gear):\n",
    "        print(f\"Shifting into gear {gear}.\")\n",
    "\n",
    "class SportsCar(Car, Engine, Transmission):  # Multiple inheritance example (use with caution)\n",
    "    def __init__(self, name_of_vehicle, max_speed, average, seating_capacity, fuel_type, horse_power, number_of_gears):\n",
    "        Car.__init__(self, name_of_vehicle, max_speed, average, seating_capacity)\n",
    "        Engine.__init__(self, fuel_type, horse_power)\n",
    "        Transmission.__init__(self, number_of_gears)\n",
    "\n",
    "    def accelerate(self):\n",
    "        print(f\"The {self.name_of_vehicle} accelerates with the {self.fuel_type} engine and {self.number_of_gears}-speed transmission.\")\n",
    "\n",
    "# Example usage\n",
    "sports_car = SportsCar(\"Ferrari F8 Tributo\", 211, 15, 2, \"Gasoline\", 720, 7)\n",
    "sports_car.start()\n",
    "sports_car.shift(3)\n",
    "sports_car.accelerate()\n"
   ]
  },
  {
   "cell_type": "markdown",
   "id": "16e269b2-5d9d-4751-8aea-60188ace0ea2",
   "metadata": {},
   "source": [
    "# Answers 4: \n",
    "\n",
    "\n",
    "class Person:\n",
    "    def __init__(self, first_name, last_name):\n",
    "        self._first_name = first_name  # Using a private attribute with leading underscore\n",
    "        self.last_name = last_name\n",
    "\n",
    "    @property  # Getter for first_name (read-only)\n",
    "    def first_name(self):\n",
    "        return self._first_name\n",
    "\n",
    "    @first_name.setter  # Setter for first_name (with validation)\n",
    "    def first_name(self, value):\n",
    "        if not value.isalpha():\n",
    "            raise ValueError(\"First name must only contain letters.\")\n",
    "        self._first_name = value\n",
    "\n",
    "# Example usage\n",
    "person = Person(\"John\", \"Doe\")\n",
    "print(person.first_name)  # Output: John\n",
    "try:\n",
    "    person.first_name = \"123\"  # Will raise a ValueError\n",
    "except ValueError as e:\n",
    "    print(e)\n"
   ]
  },
  {
   "cell_type": "markdown",
   "id": "3538659d-1d70-41db-b40c-571351867ca8",
   "metadata": {},
   "source": [
    "# Answers 5: \n",
    "\n",
    "class Animal:\n",
    "    def make_sound(self):\n",
    "        print(\"Generic animal sound\")\n",
    "\n",
    "class Dog(\n",
    "\n"
   ]
  }
 ],
 "metadata": {
  "kernelspec": {
   "display_name": "Python 3 (ipykernel)",
   "language": "python",
   "name": "python3"
  },
  "language_info": {
   "codemirror_mode": {
    "name": "ipython",
    "version": 3
   },
   "file_extension": ".py",
   "mimetype": "text/x-python",
   "name": "python",
   "nbconvert_exporter": "python",
   "pygments_lexer": "ipython3",
   "version": "3.10.8"
  }
 },
 "nbformat": 4,
 "nbformat_minor": 5
}
