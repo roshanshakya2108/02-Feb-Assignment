{
 "cells": [
  {
   "cell_type": "markdown",
   "id": "7995b35f-c43a-4803-b53d-fad1d90fb772",
   "metadata": {},
   "source": [
    "#Answer  1 :\n",
    "\n",
    "The Probability Density Function (PDF) is a function that describes the likelihood of a random variable to take on a particular value. For a continuous random variable, the PDF gives the relative likelihood that the value of the random variable would equal that sample. The area under the PDF curve over an interval gives the probability that the random variable falls within that interval.\n"
   ]
  },
  {
   "cell_type": "markdown",
   "id": "8f6bc9af-6430-46e1-8156-20e54b8f2464",
   "metadata": {},
   "source": [
    "#Answer 2  :\n",
    "\n",
    "1. Discrete Probability Distributions:\n",
    "\n",
    "    Binomial Distribution\n",
    "    \n",
    "    Poisson Distribution\n",
    "    \n",
    "    Geometric Distribution\n",
    "    \n",
    "    Hypergeometric Distribution\n",
    "\n",
    "\n",
    "\n",
    "2. Continuous Probability Distributions:\n",
    "\n",
    "    Normal Distribution (Gaussian Distribution)\n",
    "    \n",
    "    Exponential Distribution\n",
    "    \n",
    "    Uniform Distribution\n",
    "    \n",
    "    Beta Distribution\n",
    "    \n",
    "    Gamma Distribution\n"
   ]
  },
  {
   "cell_type": "code",
   "execution_count": 6,
   "id": "5577168a-cdda-420c-bf0e-71d9dcaa4829",
   "metadata": {},
   "outputs": [
    {
     "name": "stdout",
     "output_type": "stream",
     "text": [
      "0.3990434422338111\n"
     ]
    }
   ],
   "source": [
    "#Answer   3:\n",
    "\n",
    "import numpy as np\n",
    "from scipy import stats\n",
    "\n",
    "def normal_pdf(x, mean, std_dev):\n",
    "    coefficient = 1.0 / (std_dev * np.sqrt(2 * 3.14))\n",
    "    exponent = np.exp(-0.5 * ((x - mean) / std_dev) ** 2)\n",
    "    return coefficient * exponent\n",
    "\n",
    "# Example usage:\n",
    "mean = 0\n",
    "std_dev = 1\n",
    "x = 0\n",
    "print(normal_pdf(x, mean, std_dev))  # Output: 0.3989422804014327\n",
    "\n"
   ]
  },
  {
   "cell_type": "markdown",
   "id": "a4b17827-c9c7-402a-bb93-d2f5a3d959a2",
   "metadata": {},
   "source": [
    "#Answer  4 :\n",
    "\n",
    "Properties of Binomial Distribution:\n",
    "\n",
    "1. The number of trials is fixed.\n",
    "2. Each trial is independent.\n",
    "3. There are only two possible outcomes for each trial: success or failure.\n",
    "4. The probability of success is the same for each trial.\n",
    "\n",
    "\n",
    "\n",
    "Examples:\n",
    "\n",
    "1. Flipping a coin a fixed number of times and counting the number of heads.\n",
    "2. Administering a drug to a group of patients and counting the number of patients who respond positively.\n"
   ]
  },
  {
   "cell_type": "code",
   "execution_count": 7,
   "id": "c24a991a-e4a8-430d-a961-889b80d682a5",
   "metadata": {},
   "outputs": [
    {
     "data": {
      "image/png": "[encoded data removed]",
      "text/plain": [
       "<Figure size 640x480 with 1 Axes>"
      ]
     },
     "metadata": {},
     "output_type": "display_data"
    }
   ],
   "source": [
    "#Answer  5 :\n",
    "\n",
    "import numpy as np\n",
    "import matplotlib.pyplot as plt\n",
    "\n",
    "# Parameters\n",
    "n = 10  # Number of trials\n",
    "p = 0.4  # Probability of success\n",
    "sample_size = 1000\n",
    "\n",
    "# Generate random sample\n",
    "sample = np.random.binomial(n, p, sample_size)\n",
    "\n",
    "# Plot histogram\n",
    "plt.hist(sample, bins=range(n+2), edgecolor='black', alpha=0.7)\n",
    "plt.title('Histogram of Binomial Distribution')\n",
    "plt.xlabel('Number of Successes')\n",
    "plt.ylabel('Frequency')\n",
    "plt.show()\n",
    "\n"
   ]
  },
  {
   "cell_type": "code",
   "execution_count": 8,
   "id": "5789f21b-c8ee-41a5-ad23-c57cd5549692",
   "metadata": {},
   "outputs": [
    {
     "name": "stdout",
     "output_type": "stream",
     "text": [
      "0.2650259152973616\n"
     ]
    }
   ],
   "source": [
    "#Answer  6 :\n",
    "\n",
    "from scipy.stats import poisson\n",
    "\n",
    "def poisson_cdf(k, mean):\n",
    "    return poisson.cdf(k, mean)\n",
    "\n",
    "# Example usage:\n",
    "mean = 5\n",
    "k = 3\n",
    "print(poisson_cdf(k, mean))  # Output: 0.2650259152973616\n",
    "\n"
   ]
  },
  {
   "cell_type": "markdown",
   "id": "d2dbcfa1-0b99-46e7-a890-d14967be9138",
   "metadata": {},
   "source": [
    "#Answer  7 :\n",
    "\n",
    "Binomial Distribution:\n",
    "\n",
    "1. Applies to situations with a fixed number of independent trials.\n",
    "2. Each trial has two possible outcomes (success or failure).\n",
    "3. Probability of success is constant for each trial.\n",
    "4. Used for modeling the number of successes in a fixed number of trials.\n",
    "\n",
    "\n",
    "Poisson Distribution:\n",
    "\n",
    "1. Applies to situations where events occur independently over a continuous interval (time, space, etc.).\n",
    "2. Models the number of events in a fixed interval of time or space.\n",
    "3. No fixed number of trials.\n",
    "4. Used for modeling the number of occurrences of an event within a fixed period or area.\n"
   ]
  },
  {
   "cell_type": "code",
   "execution_count": 10,
   "id": "60d687ee-5d3a-4e54-8101-82f8f9996393",
   "metadata": {},
   "outputs": [
    {
     "name": "stdout",
     "output_type": "stream",
     "text": [
      "Sample Mean: 4.88\n",
      "Sample Variance: 4.9716\n"
     ]
    }
   ],
   "source": [
    "#Answer 8  : \n",
    "\n",
    "# Parameters\n",
    "mean = 5\n",
    "sample_size = 1000\n",
    "\n",
    "# Generate random sample\n",
    "sample = np.random.poisson(mean, sample_size)\n",
    "\n",
    "# Calculate sample mean and variance\n",
    "sample_mean = np.mean(sample)\n",
    "sample_variance = np.var(sample)\n",
    "\n",
    "print(f'Sample Mean: {sample_mean}')\n",
    "print(f'Sample Variance: {sample_variance}')\n",
    "\n"
   ]
  },
  {
   "cell_type": "markdown",
   "id": "ea82ea2d-7370-4c9c-8a2b-de2b3c3110ce",
   "metadata": {},
   "source": [
    "#Answer   9 : \n",
    "\n",
    "Binomial Distribution:\n",
    "\n",
    "Mean (μ) = \n",
    "�\n",
    "×\n",
    "�\n",
    "n×p\n",
    "Variance (σ²) = \n",
    "�\n",
    "×\n",
    "�\n",
    "×\n",
    "(\n",
    "1\n",
    "−\n",
    "�\n",
    ")\n",
    "n×p×(1−p)\n",
    "Poisson Distribution:\n",
    "\n",
    "Mean (μ) = λ\n",
    "Variance (σ²) = λ\n",
    "In both distributions, the mean and variance are equal when dealing with a Poisson distribution, whereas in a Binomial distribution, the variance is less than the mean and depends on the probability of success.\n"
   ]
  },
  {
   "cell_type": "code",
   "execution_count": 9,
   "id": "fd7c2a07-5344-4ec8-ac9a-cf9c91f41b10",
   "metadata": {},
   "outputs": [],
   "source": [
    "#Answer    : \n",
    "\n",
    "\n"
   ]
  },
  {
   "cell_type": "code",
   "execution_count": null,
   "id": "33ab68c3-6e16-411b-8b6d-ccc11581585d",
   "metadata": {},
   "outputs": [],
   "source": []
  }
 ],
 "metadata": {
  "kernelspec": {
   "display_name": "Python 3 (ipykernel)",
   "language": "python",
   "name": "python3"
  },
  "language_info": {
   "codemirror_mode": {
    "name": "ipython",
    "version": 3
   },
   "file_extension": ".py",
   "mimetype": "text/x-python",
   "name": "python",
   "nbconvert_exporter": "python",
   "pygments_lexer": "ipython3",
   "version": "3.10.8"
  }
 },
 "nbformat": 4,
 "nbformat_minor": 5
}
