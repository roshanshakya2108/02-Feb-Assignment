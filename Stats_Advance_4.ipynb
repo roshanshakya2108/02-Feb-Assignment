{
 "cells": [
  {
   "cell_type": "markdown",
   "id": "353f4489-8dff-4dbf-a0fd-b364eaecf8a3",
   "metadata": {},
   "source": [
    "#Answer  1  :\n",
    "\n",
    "T-Test:\n",
    "\n",
    "Used when the sample size is small (typically n < 30) and the population standard deviation is unknown.\n",
    "Assumes the data follows a normal distribution.\n",
    "Used to compare the means of two groups.\n",
    "\n",
    "Z-Test:\n",
    "\n",
    "Used when the sample size is large (typically n ≥ 30) or the population standard deviation is known.\n",
    "Assumes the data follows a normal distribution.\n",
    "Also used to compare means but with larger sample sizes or known population variance.\n",
    "\n",
    "Example Scenario:\n",
    "\n",
    "T-Test: Comparing the average test scores of two small groups of students (e.g., Group A with 15 students and Group B with 12 students).\n",
    "Z-Test: Testing whether the average height of a sample of 50 people is different from the known average height of the population.\n",
    "\n"
   ]
  },
  {
   "cell_type": "markdown",
   "id": "65a06443-215f-4a4e-8edb-acf0fc1ab64f",
   "metadata": {},
   "source": [
    "#Answer  2  :\n",
    "\n",
    "One-Tailed Test:\n",
    "\n",
    "Tests for the possibility of the relationship in one direction.\n",
    "Example: Testing if a new drug is more effective than the current one (greater effectiveness).\n",
    "Two-Tailed Test:\n",
    "\n",
    "Tests for the possibility of the relationship in both directions.\n",
    "Example: Testing if a new drug is different from the current one in terms of effectiveness (either more or less effective).\n"
   ]
  },
  {
   "cell_type": "markdown",
   "id": "a5234932-a9eb-4942-a1ac-18a4f4ea0337",
   "metadata": {},
   "source": [
    "#Answer  3  :\n",
    "\n",
    "Type 1 Error:\n",
    "\n",
    "False positive, rejecting the null hypothesis when it is true.\n",
    "Example: Concluding that a drug is effective when it actually isn't.\n",
    "Type 2 Error:\n",
    "\n",
    "False negative, failing to reject the null hypothesis when it is false.\n",
    "Example: Concluding that a drug is not effective when it actually is.\n"
   ]
  },
  {
   "cell_type": "markdown",
   "id": "faac4c6f-0b96-4c9f-aae1-e58b5e7e009e",
   "metadata": {},
   "source": [
    "#Answer 4   :\n",
    "\n",
    "Bayes's Theorem:\n",
    "P(A∣B)= \n",
    "P(B)\n",
    "P(B∣A)⋅P(A)\n",
    "​\n",
    " \n",
    "\n",
    "Example:\n",
    "\n",
    "Problem: A medical test for a disease has a 99% sensitivity (true positive rate) and a 95% specificity (true negative rate). If 0.1% of the population has the disease, what is the probability that a person who tests positive actually has the disease?\n",
    "Solution:\n",
    "\n",
    "The probability is about 1.95%.\n"
   ]
  },
  {
   "cell_type": "markdown",
   "id": "f1677951-fab6-4c26-be1c-9680fa31dfe5",
   "metadata": {},
   "source": [
    "#Answer 5   :\n",
    "\n",
    "Confidence Interval:\n",
    "\n",
    "A range of values that is likely to contain the population parameter with a certain level of confidence.\n",
    "Calculation:\n",
    "\n",
    "CI= \n",
    "mean\n",
    " ±z( σ / sqrt(n)\n",
    "​\n",
    " )\n"
   ]
  },
  {
   "cell_type": "markdown",
   "id": "aaf73943-88ee-45dd-bf0f-27183ebbf88f",
   "metadata": {},
   "source": [
    "#Answer  6  :\n",
    "\n",
    "\n",
    "Problem: The probability of having a certain disease is 0.01. A test has a 90% true positive rate and an 8% false positive rate. If a person tests positive, what is the probability they have the disease?\n",
    "Solution:\n",
    "\n",
    "\n",
    "P(D∣+)= \n",
    "P(+)\n",
    "P(+∣D)⋅P(D)\n",
    "​\n",
    " = \n",
    "0.0172x0.90x0.01\n",
    "​\n",
    " ≈0.523\n",
    " \n",
    "The probability is about 52.3%."
   ]
  },
  {
   "cell_type": "markdown",
   "id": "34c52baf-d1f6-4f87-b587-8f0902ff7bc6",
   "metadata": {},
   "source": [
    "#Answer  7  :\n",
    "\n",
    "\n",
    "Problem: Sample mean = 50, standard deviation = 5, sample size = 30.\n",
    "Solution:\n",
    "For 95% confidence level, \n",
    "≈\n",
    "1.96\n",
    "z≈1.96.\n",
    "\n",
    "Margin of error = \n",
    "\n",
    "1.96\n",
    "×\n",
    "0.9129\n",
    "≈\n",
    "1.789\n",
    "1.96×( \n",
    "30\n",
    "​\n",
    " \n",
    "5\n",
    "​\n",
    " )=1.96×0.9129≈1.789.\n",
    " \n",
    "CI = \n",
    "50\n",
    "±\n",
    "1.789\n",
    "=\n",
    "[\n",
    "48.211\n",
    ",\n",
    "51.789\n",
    "\n",
    "Interpretation: We are 95% confident that the true population mean lies between 48.211 and 51.789."
   ]
  },
  {
   "cell_type": "markdown",
   "id": "12b992fa-02b7-4d1b-8341-8b81c246c504",
   "metadata": {},
   "source": [
    "#Answer   8 :\n",
    "\n",
    "Margin of Error:\n",
    "\n",
    "The range within which the true population parameter is expected to fall.\n",
    "Formula: \n",
    "\n",
    "MOE=z(\n",
    "σ/sqrt(n)\n",
    " ).\n",
    "Effect of Sample Size:\n",
    "\n",
    "Larger sample size decreases the margin of error.\n",
    "Example:\n",
    "\n",
    "Scenario: Estimating the average height with a sample size of 1000 instead of 100. A larger sample size will reduce the margin of error, leading to a more precise estimate.\n"
   ]
  },
  {
   "cell_type": "markdown",
   "id": "4d8017eb-ceae-4155-971d-e87338c09133",
   "metadata": {},
   "source": [
    "#Answer 9 :\n",
    "Example:\n",
    "\n",
    "Problem: Data point value = 75, population mean = 70, population standard deviation = 5.\n",
    "\n",
    "Solution:\n",
    "\n",
    "z =(75-70)/5= 1\n",
    "\n",
    "Interpretation: The data point is 1 standard deviation above the mean.\n",
    "\n"
   ]
  },
  {
   "cell_type": "markdown",
   "id": "f214d74a-4eeb-44fd-b051-ab6e08745b5e",
   "metadata": {},
   "source": [
    "#Answer   10 :\n",
    "\n",
    "This scenario requires a one-sample t-test to see if the average weight loss (6 pounds) is significantly different from zero (assuming no weight loss without the drug).\n",
    "\n",
    "Null Hypothesis (H0): The average weight loss with the drug is 0 pounds (no effect).\n",
    "Alternative Hypothesis (Ha): The average weight loss with the drug is different from 0 pounds (effective).\n",
    "Significance Level (α): 0.05 (95% confidence level, 1 - 0.95)\n",
    "We don't have enough information to calculate the t-statistic directly, but most statistical software can perform the test and provide the p-value.\n",
    "\n",
    "Interpret the p-value: If the p-value is less than 0.05 (α), we reject the null hypothesis and conclude the drug has a significant effect on weight loss (at a 95% confidence level)."
   ]
  },
  {
   "cell_type": "markdown",
   "id": "a619f5a6-21ad-4a90-8646-662f3abb681e",
   "metadata": {},
   "source": [
    "#Answer   11:\n",
    "\n",
    "Job Satisfaction Survey\n",
    "\n",
    "This involves a confidence interval for a proportion. We know the sample size (n=500) and the sample proportion (p=0.65).\n",
    "\n",
    "Confidence Level: 95% (same as α in hypothesis testing)\n",
    "Critical Value (z): We can find the z-score for a 95% confidence level using a z-table or statistical software (approximately 1.96).\n",
    "Confidence Interval: p ± (z * sqrt(p*(1-p)/n))\n",
    "\n",
    "Calculate the interval:\n",
    "\n",
    "0.65 ± (1.96 * sqrt(0.65 * (1-0.65) / 500))\n",
    "This will give you a range of values representing the population proportion with 95% confidence."
   ]
  },
  {
   "cell_type": "markdown",
   "id": "93d62d0f-3106-4241-ab93-1595158a0332",
   "metadata": {},
   "source": [
    "#Answer   12:\n",
    "\n",
    "This requires a two-sample independent t-test to compare the means (85 and 82) and standard deviations (6 and 5) of the two teaching methods (A and B).\n",
    "\n",
    "Null Hypothesis (H0): There is no significant difference in student performance between the two teaching methods (means are equal).\n",
    "Alternative Hypothesis (Ha): There is a significant difference in student performance between the two teaching methods (means are not equal).\n",
    "Significance Level (α): 0.01\n",
    "We need to calculate the t-statistic and compare it to the critical t-value for a two-tailed test with a significance level of 0.01 and degrees of freedom (calculated based on sample sizes).\n",
    "\n",
    "Steps:\n",
    "\n",
    "Calculate the pooled standard deviation.\n",
    "Calculate the t-statistic.\n",
    "Find the critical t-value for the chosen significance level and degrees of freedom.\n",
    "Interpret the results: If the calculated t-statistic falls outside the critical t-value range, reject the null hypothesis and conclude a significant difference in performance between the methods."
   ]
  },
  {
   "cell_type": "markdown",
   "id": "56343ced-2e29-4321-9163-bd958637e061",
   "metadata": {},
   "source": [
    "#Answer   13:\n",
    " Population Mean Confidence Interval\n",
    "\n",
    "Here, we know the population standard deviation (σ=8) but only have a sample mean (x̄=65) and size (n=50). We can use a one-sample z-test to find the confidence interval.\n",
    "\n",
    "Confidence Level: 90% (1 - 0.90 = 0.10)\n",
    "Critical Value (z): Find the z-score for a 90% confidence level (approximately 1.645).\n",
    "Confidence Interval: x̄ ± (z * σ / sqrt(n))\n",
    "\n",
    "Calculate the interval:\n",
    "\n",
    "65 ± (1.645 * 8 / sqrt(50))\n",
    "This will give you a range of values representing the true population mean with 90% confidence.\n"
   ]
  },
  {
   "cell_type": "markdown",
   "id": "b9d30eb2-4038-48f2-baf6-926ddcf5c8ea",
   "metadata": {},
   "source": [
    "#Answer  14:\n",
    "\n",
    "Similar to Q10, this requires a one-sample t-test to see if the average reaction time (0.25 seconds) is significantly different from a specific value (often assumed to be 0 seconds without caffeine).\n",
    "\n",
    "Null Hypothesis (H0): The average reaction time with caffeine is the same as a specific value (usually 0 seconds).\n",
    "Alternative Hypothesis (Ha): The average reaction time with caffeine is different from the specific value.\n",
    "Significance Level (α): 0.10 (90% confidence level, 1 - 0.90)\n",
    "Follow the same steps as Q10 to calculate the t-statistic, find the critical value for a one-tailed test with α=0.10 and degrees of"
   ]
  },
  {
   "cell_type": "code",
   "execution_count": null,
   "id": "d23de472-46f5-4756-abfa-b39ca6e32ab7",
   "metadata": {},
   "outputs": [],
   "source": []
  }
 ],
 "metadata": {
  "kernelspec": {
   "display_name": "Python 3 (ipykernel)",
   "language": "python",
   "name": "python3"
  },
  "language_info": {
   "codemirror_mode": {
    "name": "ipython",
    "version": 3
   },
   "file_extension": ".py",
   "mimetype": "text/x-python",
   "name": "python",
   "nbconvert_exporter": "python",
   "pygments_lexer": "ipython3",
   "version": "3.10.8"
  }
 },
 "nbformat": 4,
 "nbformat_minor": 5
}
