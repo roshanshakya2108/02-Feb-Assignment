{
 "cells": [
  {
   "cell_type": "markdown",
   "id": "d299a44c-5a1f-4d3e-a715-03d728793deb",
   "metadata": {},
   "source": [
    "Q1. Which keyword is used to create a function? Create a function to return a list of odd numbers in the\n",
    "range of 1 to 25."
   ]
  },
  {
   "cell_type": "code",
   "execution_count": null,
   "id": "1e820e59-16a7-4d01-a8de-e20f209563e6",
   "metadata": {},
   "outputs": [],
   "source": [
    "def"
   ]
  },
  {
   "cell_type": "code",
   "execution_count": null,
   "id": "d3a1e392-27f4-475c-8ba6-e5a54bbd5bc6",
   "metadata": {},
   "outputs": [],
   "source": []
  },
  {
   "cell_type": "markdown",
   "id": "f73d4d22-c404-48f1-b9ef-b534ca7fcfd5",
   "metadata": {},
   "source": [
    "Q2. Why *args and **kwargs is used in some functions? Create a function each for *args and **kwargs\n",
    "to demonstrate their use.\n",
    "\n",
    "\n"
   ]
  },
  {
   "cell_type": "code",
   "execution_count": null,
   "id": "46a18f6d-c0d4-489a-a2a7-690c9986040b",
   "metadata": {},
   "outputs": [],
   "source": [
    "The *args syntax allows a function to accept an arbitrary number of non-keyword arguments.\n",
    "\n",
    "and \n",
    "\n",
    "The **kwargs syntax allows a function to accept an arbitrary number of keyword arguments."
   ]
  },
  {
   "cell_type": "code",
   "execution_count": null,
   "id": "7680e97b-bfb1-42d2-8680-18a7ddc47f69",
   "metadata": {},
   "outputs": [],
   "source": []
  },
  {
   "cell_type": "markdown",
   "id": "fbd36059-1bcc-4d9a-bf07-5abf81228182",
   "metadata": {},
   "source": [
    "Q3. What is an iterator in python? Name the method used to initialise the iterator object and the method\n",
    "used for iteration. Use these methods to print the first five elements of the given list [2, 4, 6, 8, 10, 12, 14,\n",
    "16, 18, 20]."
   ]
  },
  {
   "cell_type": "code",
   "execution_count": 2,
   "id": "cdb3b35a-91e7-465f-a368-4c03de7c6910",
   "metadata": {},
   "outputs": [
    {
     "name": "stdout",
     "output_type": "stream",
     "text": [
      "2\n",
      "4\n",
      "6\n",
      "8\n",
      "10\n"
     ]
    }
   ],
   "source": [
    "#In Python, an iterator is an object that allows you to iterate through a collection (like a list) one element at a time without needing to know the underlying structure of the collection. \n",
    "\n",
    "#__iter__() method: This method initializes the iterator object and returns itself. It is called when you create an iterator for a collection.\n",
    "\n",
    "# Given list\n",
    "my_list = [2, 4, 6, 8, 10, 12, 14, 16, 18, 20]\n",
    "\n",
    "# Create an iterator object using iter()\n",
    "my_iterator = iter(my_list)\n",
    "\n",
    "# Use the iterator to print the first five elements\n",
    "for _ in range(5):\n",
    "    try:\n",
    "        element = next(my_iterator)\n",
    "        print(element)\n",
    "    except StopIteration:\n",
    "        print(\"Reached the end of the list.\")\n",
    "        break\n"
   ]
  },
  {
   "cell_type": "markdown",
   "id": "7941a8c8-74c8-440d-a04c-33228d3e476c",
   "metadata": {},
   "source": [
    "Q4. What is a generator function in python? Why yield keyword is used? Give an example of a generator\n",
    "function."
   ]
  },
  {
   "cell_type": "code",
   "execution_count": 6,
   "id": "881fd51c-9657-49ea-88e7-c3d976de3a0c",
   "metadata": {},
   "outputs": [
    {
     "name": "stdout",
     "output_type": "stream",
     "text": [
      "1\n",
      "2\n",
      "3\n"
     ]
    }
   ],
   "source": [
    "#Generator Function : In Python, a generator is a function that returns an iterator that produces a sequence of values when iterated over.\n",
    "\n",
    "#The yield keyword is used to produce a value from the generator and pause the generator function's execution until the next value is requested.\n",
    "\n",
    "#Example:\n",
    "    \n",
    "# A generator function that yields 1 for first time,\n",
    "# 2 second time and 3 third time\n",
    "def simpleGeneratorFun():\n",
    "\tyield 1\t\t\n",
    "\tyield 2\t\t\n",
    "\tyield 3\t\t\n",
    "\n",
    "# Driver code to check above generator function\n",
    "for value in simpleGeneratorFun():\n",
    "\tprint(value)\n",
    "\n",
    "\n"
   ]
  },
  {
   "cell_type": "markdown",
   "id": "dcee260a-13f0-4af8-b266-2150648bd6d4",
   "metadata": {},
   "source": [
    "Q5. Create a generator function for prime numbers less than 1000. Use the next() method to print the\n",
    "first 20 prime numbers."
   ]
  },
  {
   "cell_type": "code",
   "execution_count": 7,
   "id": "79936410-97c8-49d4-89df-e2baec455145",
   "metadata": {},
   "outputs": [
    {
     "name": "stdout",
     "output_type": "stream",
     "text": [
      "2\n",
      "3\n",
      "5\n",
      "7\n",
      "11\n",
      "13\n",
      "17\n",
      "19\n",
      "23\n",
      "29\n",
      "31\n",
      "37\n",
      "41\n",
      "43\n",
      "47\n",
      "53\n",
      "59\n",
      "61\n",
      "67\n",
      "71\n"
     ]
    }
   ],
   "source": [
    "def is_prime(number):\n",
    "    if number <= 1:\n",
    "        return False\n",
    "    for i in range(2, int(number**0.5) + 1):\n",
    "        if number % i == 0:\n",
    "            return False\n",
    "    return True\n",
    "\n",
    "def prime_generator(limit):\n",
    "    number = 2\n",
    "    count = 0\n",
    "    while count < limit:\n",
    "        if is_prime(number):\n",
    "            yield number\n",
    "            count += 1\n",
    "        number += 1\n",
    "\n",
    "# Create a generator object for the first 20 prime numbers\n",
    "my_generator = prime_generator(20)\n",
    "\n",
    "# Use the generator to print the first 20 prime numbers\n",
    "for _ in range(20):\n",
    "    print(next(my_generator))\n"
   ]
  },
  {
   "cell_type": "markdown",
   "id": "f3695fe4-49fe-4d12-910f-17d34de60a8b",
   "metadata": {},
   "source": [
    "Q6. Write a python program to print the first 10 Fibonacci numbers using a while loop.\n"
   ]
  },
  {
   "cell_type": "code",
   "execution_count": 9,
   "id": "b8080e72-98c1-4bf5-a80c-75f15de4dfe4",
   "metadata": {},
   "outputs": [
    {
     "name": "stdout",
     "output_type": "stream",
     "text": [
      "[0, 1, 1, 2, 3, 5, 8, 13, 21, 34]\n"
     ]
    }
   ],
   "source": [
    "def fibonacci_sequence(n):\n",
    "    fib_list = []\n",
    "    a, b = 0, 1\n",
    "\n",
    "    while len(fib_list) < n:\n",
    "        fib_list.append(a)\n",
    "        a, b = b, a + b\n",
    "\n",
    "    return fib_list\n",
    "\n",
    "# Call the function to get the first 10 Fibonacci numbers\n",
    "fibonacci_numbers = fibonacci_sequence(10)\n",
    "\n",
    "# Print the result\n",
    "print(fibonacci_numbers)\n"
   ]
  },
  {
   "cell_type": "markdown",
   "id": "87aab61e-0635-4839-aef1-33e1b00cbc3a",
   "metadata": {},
   "source": [
    "Q7. Write a List Comprehension to iterate through the given string: ‘pwskills’.\n",
    "Expected output: ['p', 'w', 's', 'k', 'i', 'l', 'l', 's']"
   ]
  },
  {
   "cell_type": "code",
   "execution_count": 10,
   "id": "83f9e2d8-2679-48e7-a125-4086da974c18",
   "metadata": {},
   "outputs": [
    {
     "name": "stdout",
     "output_type": "stream",
     "text": [
      "['p', 'w', 's', 'k', 'i', 'l', 'l', 's']\n"
     ]
    }
   ],
   "source": [
    "a = 'pwskills'\n",
    "b = [char for char in a if char in 'pwskills']\n",
    "print(b)\n"
   ]
  },
  {
   "cell_type": "markdown",
   "id": "3e1f1a2c-397b-4cf4-8ba3-aa0aa92d76be",
   "metadata": {},
   "source": [
    "Q8. Write a python program to check whether a given number is Palindrome or not using a while loop."
   ]
  },
  {
   "cell_type": "code",
   "execution_count": 13,
   "id": "8a4570e2-bfa9-40c4-b1f0-8df8edddb823",
   "metadata": {},
   "outputs": [
    {
     "name": "stdin",
     "output_type": "stream",
     "text": [
      "Enter a number:  1221\n"
     ]
    },
    {
     "name": "stdout",
     "output_type": "stream",
     "text": [
      "1221 is a palindrome.\n"
     ]
    }
   ],
   "source": [
    "def is_palindrome(number):\n",
    "    # Convert the number to a string to reverse it easily\n",
    "    num_str = str(number)\n",
    "    reversed_str = \"\"\n",
    "\n",
    "    # Reverse the digits of the number using a while loop\n",
    "    index = len(num_str) - 1\n",
    "    while index >= 0:\n",
    "        reversed_str += num_str[index]\n",
    "        index -= 1\n",
    "\n",
    "    # Compare the reversed number with the original number\n",
    "    return num_str == reversed_str\n",
    "\n",
    "# Test the function with a number\n",
    "number = int(input(\"Enter a number: \"))\n",
    "\n",
    "if is_palindrome(number):\n",
    "    print(f\"{number} is a palindrome.\")\n",
    "else:\n",
    "    print(f\"{number} is not a palindrome.\")\n"
   ]
  },
  {
   "cell_type": "code",
   "execution_count": null,
   "id": "775cba61-4e1e-4df6-b2cc-4aedbc939866",
   "metadata": {},
   "outputs": [],
   "source": []
  }
 ],
 "metadata": {
  "kernelspec": {
   "display_name": "Python 3 (ipykernel)",
   "language": "python",
   "name": "python3"
  },
  "language_info": {
   "codemirror_mode": {
    "name": "ipython",
    "version": 3
   },
   "file_extension": ".py",
   "mimetype": "text/x-python",
   "name": "python",
   "nbconvert_exporter": "python",
   "pygments_lexer": "ipython3",
   "version": "3.10.6"
  }
 },
 "nbformat": 4,
 "nbformat_minor": 5
}
