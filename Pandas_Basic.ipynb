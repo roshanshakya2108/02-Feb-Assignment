{
 "cells": [
  {
   "cell_type": "code",
   "execution_count": 2,
   "id": "932a5b19-9358-49c3-b94c-4f449c383edf",
   "metadata": {},
   "outputs": [
    {
     "name": "stdout",
     "output_type": "stream",
     "text": [
      "0     4\n",
      "1     8\n",
      "2    15\n",
      "3    16\n",
      "4    23\n",
      "5    42\n",
      "dtype: int64\n"
     ]
    }
   ],
   "source": [
    "#ANSWER  1:\n",
    "\n",
    "import pandas as pd\n",
    "\n",
    "# Create the series\n",
    "data = [4, 8, 15, 16, 23, 42]\n",
    "series = pd.Series(data)\n",
    "\n",
    "# Print the series\n",
    "print(series)\n",
    "\n"
   ]
  },
  {
   "cell_type": "code",
   "execution_count": 3,
   "id": "d846babc-cb44-4190-ad99-2f2b2081216a",
   "metadata": {},
   "outputs": [
    {
     "name": "stdout",
     "output_type": "stream",
     "text": [
      "0     1\n",
      "1     2\n",
      "2     3\n",
      "3     4\n",
      "4     5\n",
      "5     6\n",
      "6     7\n",
      "7     8\n",
      "8     9\n",
      "9    10\n",
      "dtype: int64\n"
     ]
    }
   ],
   "source": [
    "#ANSWER  2:\n",
    "# Create a list with 10 elements\n",
    "data_list = [1, 2, 3, 4, 5, 6, 7, 8, 9, 10]\n",
    "\n",
    "# Convert the list to a Pandas Series\n",
    "series_from_list = pd.Series(data_list)\n",
    "\n",
    "# Print the series\n",
    "print(series_from_list)\n",
    "\n",
    "\n"
   ]
  },
  {
   "cell_type": "code",
   "execution_count": 4,
   "id": "d060eeda-ded5-4c72-bf62-29c587d4b3ff",
   "metadata": {},
   "outputs": [
    {
     "name": "stdout",
     "output_type": "stream",
     "text": [
      "      Name  Age           City\n",
      "0    Alice   24       New York\n",
      "1      Bob   27        Chicago\n",
      "2  Charlie   22  San Francisco\n"
     ]
    }
   ],
   "source": [
    "#ANSWER  3:\n",
    "\n",
    "# Create the DataFrame\n",
    "data = {\n",
    "    'Name': ['Alice', 'Bob', 'Charlie'],\n",
    "    'Age': [24, 27, 22],\n",
    "    'City': ['New York', 'Chicago', 'San Francisco']\n",
    "}\n",
    "df = pd.DataFrame(data)\n",
    "\n",
    "# Print the DataFrame\n",
    "print(df)\n",
    "\n"
   ]
  },
  {
   "cell_type": "code",
   "execution_count": 5,
   "id": "7514934d-c1a6-4207-a5c9-966b5c12ed28",
   "metadata": {},
   "outputs": [
    {
     "name": "stdout",
     "output_type": "stream",
     "text": [
      "Series:\n",
      "0    1\n",
      "1    2\n",
      "2    3\n",
      "3    4\n",
      "4    5\n",
      "dtype: int64\n",
      "\n",
      "DataFrame:\n",
      "   Column1 Column2\n",
      "0        1       A\n",
      "1        2       B\n",
      "2        3       C\n",
      "3        4       D\n"
     ]
    }
   ],
   "source": [
    "#ANSWER 4 :\n",
    "\n",
    "# DataFrame: A DataFrame is a 2-dimensional labeled data structure with columns of potentially different types. It is similar to a spreadsheet or SQL table, or a dictionary of Series objects.\n",
    "\n",
    "# Series: A Series is a one-dimensional labeled array capable of holding any data type. It is similar to a column in a DataFrame.\n",
    "\n",
    "\n",
    "# Creating a Series\n",
    "series = pd.Series([1, 2, 3, 4, 5])\n",
    "print(\"Series:\")\n",
    "print(series)\n",
    "\n",
    "# Creating a DataFrame\n",
    "data = {\n",
    "    'Column1': [1, 2, 3, 4],\n",
    "    'Column2': ['A', 'B', 'C', 'D']\n",
    "}\n",
    "df = pd.DataFrame(data)\n",
    "print(\"\\nDataFrame:\")\n",
    "print(df)\n",
    "\n"
   ]
  },
  {
   "cell_type": "code",
   "execution_count": 6,
   "id": "5c51ff45-43c0-4811-9aee-1422034cbbc6",
   "metadata": {},
   "outputs": [
    {
     "name": "stdout",
     "output_type": "stream",
     "text": [
      "Name\n",
      "Alice      88.5\n",
      "Bob        91.5\n",
      "Charlie    78.0\n",
      "Name: Score, dtype: float64\n"
     ]
    }
   ],
   "source": [
    "#ANSWER 5:\n",
    "\n",
    "\n",
    "# Some common functions to manipulate data in a Pandas DataFrame include:\n",
    "\n",
    "# df.head(): To display the first few rows of the DataFrame.\n",
    "# df.tail(): To display the last few rows of the DataFrame.\n",
    "# df.describe(): To generate descriptive statistics.\n",
    "# df.drop(): To drop specified labels from rows or columns.\n",
    "# df.groupby(): To group DataFrame using a mapper or by a Series of columns.\n",
    "# df.merge(): To merge DataFrame or named Series objects.\n",
    "\n",
    "\n",
    "data = {\n",
    "    'Name': ['Alice', 'Bob', 'Charlie', 'Alice', 'Bob'],\n",
    "    'Age': [24, 27, 22, 24, 30],\n",
    "    'Score': [85, 88, 78, 92, 95]\n",
    "}\n",
    "df = pd.DataFrame(data)\n",
    "\n",
    "# Group by 'Name' and calculate the mean 'Score'\n",
    "grouped_df = df.groupby('Name')['Score'].mean()\n",
    "print(grouped_df)\n"
   ]
  },
  {
   "cell_type": "markdown",
   "id": "8fe9460b-41ac-4364-af97-29f320aaa701",
   "metadata": {},
   "source": [
    "#ANSWER 6:\n",
    "\n",
    "Both Series and DataFrame are mutable in nature, meaning you can change their contents after they are created. Panel is deprecated in pandas and should not be used."
   ]
  },
  {
   "cell_type": "code",
   "execution_count": 7,
   "id": "85867b18-c33b-4450-a22c-82454c93263c",
   "metadata": {},
   "outputs": [
    {
     "name": "stdout",
     "output_type": "stream",
     "text": [
      "   Column1 Column2\n",
      "0        1       A\n",
      "1        2       B\n",
      "2        3       C\n"
     ]
    }
   ],
   "source": [
    "#ANSWER 7:\n",
    "\n",
    "# Creating multiple Series\n",
    "series1 = pd.Series([1, 2, 3], name='Column1')\n",
    "series2 = pd.Series(['A', 'B', 'C'], name='Column2')\n",
    "\n",
    "# Creating a DataFrame using the Series\n",
    "df = pd.concat([series1, series2], axis=1)\n",
    "\n",
    "# Print the DataFrame\n",
    "print(df)\n"
   ]
  },
  {
   "cell_type": "code",
   "execution_count": null,
   "id": "e7270090-dac3-4102-8798-4ffefb3705cf",
   "metadata": {},
   "outputs": [],
   "source": []
  }
 ],
 "metadata": {
  "kernelspec": {
   "display_name": "Python 3 (ipykernel)",
   "language": "python",
   "name": "python3"
  },
  "language_info": {
   "codemirror_mode": {
    "name": "ipython",
    "version": 3
   },
   "file_extension": ".py",
   "mimetype": "text/x-python",
   "name": "python",
   "nbconvert_exporter": "python",
   "pygments_lexer": "ipython3",
   "version": "3.10.8"
  }
 },
 "nbformat": 4,
 "nbformat_minor": 5
}
