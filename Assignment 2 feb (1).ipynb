{
 "cells": [
  {
   "cell_type": "markdown",
   "id": "6cff5bc7-54b6-4af9-af93-c1022d882dab",
   "metadata": {},
   "source": [
    "Assignment"
   ]
  },
  {
   "cell_type": "code",
   "execution_count": null,
   "id": "87e9a409-9a40-443b-bd12-a422fec4e336",
   "metadata": {},
   "outputs": [],
   "source": []
  },
  {
   "cell_type": "markdown",
   "id": "0ff85dce-326a-471f-979e-aa2bfa9287d0",
   "metadata": {},
   "source": [
    "Q1.Explain with an example each when to use a for loop and a while loop.\n",
    "\n",
    "Answer : \n",
    "For loop: A for loop is a control flow statement that executes code repeatedly for a particular number of iterations, for loop is not a condition based loop.\n",
    "\n",
    "While loop: A while loop is a control flow statement that allows code to be executed repeatedly based on a given Boolean condition. The while loop can be thought of as a repeating if statement.\n",
    "\n",
    "Examples,\n",
    "\n"
   ]
  },
  {
   "cell_type": "code",
   "execution_count": null,
   "id": "46640f7a-aaf3-4f47-8c62-c1a48cfd384d",
   "metadata": {},
   "outputs": [],
   "source": [
    "#for_loop\n",
    "l = [1,2,3,4,5,6,7,8,9]\n",
    "for i in l :\n",
    "    if i == 5:\n",
    "        continue\n",
    "    print(i)"
   ]
  },
  {
   "cell_type": "code",
   "execution_count": null,
   "id": "a70b9cef-3686-472f-a3ad-cc91bfb6b132",
   "metadata": {},
   "outputs": [],
   "source": [
    "#while_loop\n",
    "n = 40\n",
    "starting_point = 0\n",
    "counter = 1\n",
    "while counter <= n:\n",
    "    starting_point = starting_point + counter\n",
    "    counter = counter + 1\n",
    "starting_point"
   ]
  },
  {
   "cell_type": "markdown",
   "id": "7d1311b6-a1d8-4483-ba9e-a46a5182338e",
   "metadata": {},
   "source": [
    "Q2.  Write a python program to print the sum and product of the first 10 natural numbers using for \n",
    "and while loop"
   ]
  },
  {
   "cell_type": "code",
   "execution_count": null,
   "id": "b9637f92-8ddc-4ad1-9661-f95d96b14d74",
   "metadata": {},
   "outputs": [],
   "source": [
    "#Sum and product of Fisrt 10 natural numbers using For loop\n",
    "\n",
    "sum = 0 \n",
    "for i in range(1, 11): \n",
    "  sum += i \n",
    "  product = i\n",
    "print(\"Sum of Fisrt 10 natural numbers is \", sum) \n",
    "print(\"Product of Fisrt 10 natural numbers is \", product)\n",
    "\n",
    "\n",
    "#Sum and product of Fisrt 10 natural numbers using While loop\n",
    "\n",
    "num = 10\n",
    "if num < 0:  \n",
    "   print(\"Enter a positive number\")  \n",
    "else:  \n",
    "   sum = 0  \n",
    "   while(num > 0):  \n",
    "       sum += num  \n",
    "       num -= 1  \n",
    "   print(\"The sum is\",sum) \n",
    "\n"
   ]
  },
  {
   "cell_type": "markdown",
   "id": "e1b4352d-ff13-4c39-bab0-56970c759fe1",
   "metadata": {},
   "source": [
    "Q3. Create a python program to compute the electricity bill for a household.\n",
    "\n",
    "The per-unit charges in rupees are as follows: For the first 100 units, the user will be charged Rs. 4.5 per\n",
    "unit, for the next 100 units, the user will be charged Rs. 6 per unit, and for the next 100 units, the user will\n",
    "be charged Rs. 10 per unit, After 300 units and above the user will be charged Rs. 20 per unit.\n",
    "\n",
    "You are required to take the units of electricity consumed in a month from the user as input.\n",
    "Your program must pass this test case: when the unit of electricity consumed by the user in a month is\n",
    "310, the total electricity bill should be 2250."
   ]
  },
  {
   "cell_type": "code",
   "execution_count": 6,
   "id": "b2b20fc5-1ee9-4fa9-baa5-ea81f619901e",
   "metadata": {},
   "outputs": [
    {
     "name": "stdin",
     "output_type": "stream",
     "text": [
      "Enter your unit:  310\n"
     ]
    },
    {
     "name": "stdout",
     "output_type": "stream",
     "text": [
      "Bill Per Unit: 3250\n"
     ]
    }
   ],
   "source": [
    "unit = int(input(\"Enter your unit: \"))\n",
    "if unit <= 100:\n",
    "    bill = unit * 4.5\n",
    "elif unit >= 101 and unit <= 200:\n",
    "    bill = 450 + ((unit - 100) * 6)\n",
    "elif unit >= 201 and unit <= 300:\n",
    "    bill = 450 + 600 + ((unit - 200) * 10)\n",
    "else:\n",
    "    bill = 450 + 600 + 2000 + ((unit - 300) * 20)\n",
    "print(\"Bill Per Unit:\",bill)\n"
   ]
  },
  {
   "cell_type": "markdown",
   "id": "99055a29-baa5-46aa-bf74-1ec3c00f660f",
   "metadata": {},
   "source": [
    "Q4. Create a list of numbers from 1 to 100. Use for loop and while loop to calculate the cube of each\n",
    "number and if the cube of that number is divisible by 4 or 5 then append that number in a list and print\n",
    "that list."
   ]
  },
  {
   "cell_type": "code",
   "execution_count": 10,
   "id": "a6e7e3ac-40b9-4062-8568-43301d503e90",
   "metadata": {},
   "outputs": [
    {
     "name": "stdout",
     "output_type": "stream",
     "text": [
      "[1, 8, 27, 64, 125, 216, 343, 512, 729, 1000]\n"
     ]
    }
   ],
   "source": [
    "# Initializing list\n",
    "l = [1,2,3,4,5,6,7,8,9,10]\n",
    "\n",
    "# Cube List using loop\n",
    "res = []\n",
    "for i in l:\n",
    "\tres.append(i*i*i)\n",
    "\n",
    "# printing result\n",
    "print(res)\n"
   ]
  },
  {
   "cell_type": "markdown",
   "id": "97fda618-4f43-4695-8c82-a9b5b85b3ab6",
   "metadata": {},
   "source": [
    "Q5. Write a program to filter count vowels in the below-given string.\n",
    "string = \"I want to become a data scientist\""
   ]
  },
  {
   "cell_type": "code",
   "execution_count": 1,
   "id": "0e04183b-4c12-4962-a324-db9590c6d5db",
   "metadata": {},
   "outputs": [
    {
     "name": "stdout",
     "output_type": "stream",
     "text": [
      "Number of vowels in the string: 12\n"
     ]
    }
   ],
   "source": [
    "def count_vowels(string):\n",
    "    vowels = \"aeiouAEIOU\"\n",
    "    vowel_count = 0\n",
    "\n",
    "    for char in string:\n",
    "        if char in vowels:\n",
    "            vowel_count += 1\n",
    "\n",
    "    return vowel_count\n",
    "\n",
    "string = \"I want to become a data scientist\"\n",
    "result = count_vowels(string)\n",
    "print(\"Number of vowels in the string:\", result)\n"
   ]
  },
  {
   "cell_type": "code",
   "execution_count": null,
   "id": "04276eb6-eddd-44d9-a1d0-4717a729f816",
   "metadata": {},
   "outputs": [],
   "source": []
  }
 ],
 "metadata": {
  "kernelspec": {
   "display_name": "Python 3 (ipykernel)",
   "language": "python",
   "name": "python3"
  },
  "language_info": {
   "codemirror_mode": {
    "name": "ipython",
    "version": 3
   },
   "file_extension": ".py",
   "mimetype": "text/x-python",
   "name": "python",
   "nbconvert_exporter": "python",
   "pygments_lexer": "ipython3",
   "version": "3.10.6"
  }
 },
 "nbformat": 4,
 "nbformat_minor": 5
}
