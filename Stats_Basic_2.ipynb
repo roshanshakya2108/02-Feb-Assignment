{
 "cells": [
  {
   "cell_type": "markdown",
   "id": "6951f840-ea4d-415d-8b7f-062c56acf396",
   "metadata": {},
   "source": [
    "#Answer 1 :\n",
    "\n",
    "The three measures of central tendency are:\n",
    "\n",
    "Mean\n",
    "Median\n",
    "Mode"
   ]
  },
  {
   "cell_type": "markdown",
   "id": "c8023760-3975-477f-aa9f-fbac96c28ed3",
   "metadata": {},
   "source": [
    "#Answer  2:\n",
    "\n",
    "Mean: The mean is the average of a dataset, calculated by summing all the values and dividing by the number of values. It is used when the data is symmetrically distributed without outliers.\n",
    "Median: The median is the middle value of a dataset when it is ordered from least to greatest. If the dataset has an even number of values, the median is the average of the two middle numbers. It is useful when the data is skewed or contains outliers.\n",
    "Mode: The mode is the value that appears most frequently in a dataset. It is helpful for categorical data or when the most common value is of interest.\n"
   ]
  },
  {
   "cell_type": "code",
   "execution_count": 7,
   "id": "176dd4c3-46b8-414e-a284-e3f1ec91051e",
   "metadata": {},
   "outputs": [
    {
     "name": "stdout",
     "output_type": "stream",
     "text": [
      "Mean:  177.01875\n",
      "Median:  177.0\n",
      "Mode:  ModeResult(mode=array([177.]), count=array([3]))\n"
     ]
    },
    {
     "name": "stderr",
     "output_type": "stream",
     "text": [
      "/tmp/ipykernel_70/1817959493.py:10: FutureWarning: Unlike other reduction functions (e.g. `skew`, `kurtosis`), the default behavior of `mode` typically preserves the axis it acts along. In SciPy 1.11.0, this behavior will change: the default value of `keepdims` will become False, the `axis` over which the statistic is taken will be eliminated, and the value None will no longer be accepted. Set `keepdims` to True or False to avoid this warning.\n",
      "  print(\"Mode: \",stats.mode(data))\n"
     ]
    }
   ],
   "source": [
    "#Answer 3 :\n",
    "\n",
    "import numpy as np\n",
    "from scipy import stats\n",
    "\n",
    "data=  [178, 177, 176, 177, 178.2, 178, 175, 179, 180, 175, 178.9, 176.2, 177, 172.5, 178, 176.5]\n",
    "\n",
    "print(\"Mean: \",np.mean(data))\n",
    "print(\"Median: \",np.median(data))\n",
    "print(\"Mode: \",stats.mode(data))"
   ]
  },
  {
   "cell_type": "code",
   "execution_count": 9,
   "id": "c80e8347-a2eb-4749-8029-d83d8f3bdd52",
   "metadata": {},
   "outputs": [
    {
     "name": "stdout",
     "output_type": "stream",
     "text": [
      "Variance:  3.199023437500001\n",
      "Standard Deviation:  1.7885814036548633\n"
     ]
    }
   ],
   "source": [
    "#Answer  4:\n",
    "\n",
    "data = [178, 177, 176, 177, 178.2, 178, 175, 179, 180, 175, 178.9, 176.2, 177, 172.5, 178, 176.5]\n",
    "\n",
    "print(\"Variance: \",np.var(data))\n",
    "print(\"Standard Deviation: \",np.std(data))"
   ]
  },
  {
   "cell_type": "markdown",
   "id": "7de2a5e2-5da2-4047-b397-9e86e6462ff2",
   "metadata": {},
   "source": [
    "\n",
    "#Answer  5:\n",
    "\n",
    "Range: The range is the difference between the maximum and minimum values in a dataset. It provides a simple measure of dispersion.\n",
    "Example: For the data [3, 7, 8, 2, 5], the range is \n",
    "7\n",
    "−\n",
    "2\n",
    "=\n",
    "5\n",
    "7−2=5.\n",
    "\n",
    "Variance: Variance measures the average squared deviation of each number from the mean of the dataset. It indicates how much the values in the dataset vary.\n",
    "Example: For the data [3, 7, 8, 2, 5], calculate the mean (5) and then the variance.\n",
    "\n",
    "Standard Deviation: Standard deviation is the square root of the variance and provides a measure of dispersion in the same units as the original data.\n",
    "Example: Continuing from the variance example, the standard deviation is the square root of the variance."
   ]
  },
  {
   "cell_type": "markdown",
   "id": "014e037e-1000-483a-acdd-8f5736176d68",
   "metadata": {},
   "source": [
    "#Answer  6 :\n",
    "\n",
    "A Venn diagram is a graphical representation of sets and their relationships with each other. It uses overlapping circles to illustrate the common and unique elements of different sets.\n"
   ]
  },
  {
   "cell_type": "markdown",
   "id": "9ef148aa-aa33-4a3c-920d-70c9f0cbe7d7",
   "metadata": {},
   "source": [
    "#Answer   7:\n",
    "\n",
    "(i) A∩B={2,6}\n",
    "\n",
    "(ii) A∪B={0,2,3,4,5,6,7,8,10}"
   ]
  },
  {
   "cell_type": "markdown",
   "id": "f3f57478-bc66-426b-83a7-8f60dc6071d7",
   "metadata": {},
   "source": [
    "#Answer  8 :\n",
    "\n",
    "\n",
    "Skewness measures the asymmetry of the probability distribution of a dataset.\n",
    "\n",
    "Positive skewness (right-skewed): The tail on the right side is longer or fatter. The mean is greater than the median.\n",
    "Negative skewness (left-skewed): The tail on the left side is longer or fatter. The mean is less than the median."
   ]
  },
  {
   "cell_type": "markdown",
   "id": "c139a7bc-5c26-4dc3-b647-b1abfe84cbd5",
   "metadata": {},
   "source": [
    "#Answer  9 :\n",
    "\n",
    "\n",
    "In a right-skewed (positively skewed) distribution, the median is less than the mean."
   ]
  },
  {
   "cell_type": "markdown",
   "id": "7fd926c3-a5df-489f-895f-68f765c64888",
   "metadata": {},
   "source": [
    "#Answer  10 :\n",
    "\n",
    "Covariance: Covariance measures the direction of the linear relationship between two variables. Positive covariance indicates that the variables tend to increase together, while negative covariance indicates that one variable tends to increase when the other decreases.\n",
    "Formula: \n",
    "\n",
    "Cov(X,Y)= \n",
    "n\n",
    "∑(X \n",
    "i\n",
    "​\n",
    " −μ \n",
    "X\n",
    "​\n",
    " )(Y \n",
    "i\n",
    "​\n",
    " −μ \n",
    "Y\n",
    "​\n",
    " )\n",
    "​\n",
    " \n",
    "\n",
    "Correlation: Correlation measures the strength and direction of the linear relationship between two variables, standardized to be within the range of -1 to 1. It is dimensionless and more interpretable than covariance.\n",
    "Formula: \n",
    "\n",
    "Corr(X,Y)= Cov(X,Y) /\n",
    "σ \n",
    "X\n",
    "​\n",
    " σ \n",
    "Y\n",
    "​\n",
    " \n",
    "\n",
    "​\n",
    "\n"
   ]
  },
  {
   "cell_type": "markdown",
   "id": "2769c7d8-fe12-417d-9a9c-8814486eb955",
   "metadata": {},
   "source": [
    "#Answer 11  :\n",
    "\n",
    "Formula:\n",
    "Sample mean\n",
    "=\n",
    "\n",
    "Sample mean= \n",
    "\n",
    "∑x \n",
    "i\n",
    "​\n",
    "/N \n",
    "​\n",
    " \n",
    "\n",
    "Example:\n",
    "Given dataset: [4, 8, 6, 5, 3]\n",
    "Sample mean\n",
    "=\n",
    "4\n",
    "+\n",
    "8\n",
    "+\n",
    "6\n",
    "+\n",
    "5\n",
    "+\n",
    "3\n",
    "5\n",
    "=\n",
    "26\n",
    "/5\n",
    "=\n",
    "5.2\n",
    "Sample mean= \n",
    "5\n",
    "4+8+6+5+3\n",
    "​\n",
    " = \n",
    "5\n",
    "26\n",
    "​\n",
    " =5.2\n"
   ]
  },
  {
   "cell_type": "markdown",
   "id": "13ec9b84-5528-406b-9e4c-d7349c93fb7c",
   "metadata": {},
   "source": [
    "#Answer  12 :\n",
    "\n",
    "In a normal distribution, the mean, median, and mode are all equal and located at the center of the distribution.\n"
   ]
  },
  {
   "cell_type": "markdown",
   "id": "d2bd6976-4bb6-4960-a523-3f1f03bc9664",
   "metadata": {},
   "source": [
    "#Answer  13 :\n",
    "\n",
    "ovariance indicates the direction of the linear relationship between variables but is not standardized and depends on the units of the variables. Correlation, on the other hand, is a standardized measure that indicates both the strength and direction of the linear relationship between variables, with values ranging from -1 to 1.\n"
   ]
  },
  {
   "cell_type": "markdown",
   "id": "a608a16e-e130-4413-bc32-74b5f3e16c59",
   "metadata": {},
   "source": [
    "#Answer 14  :\n",
    "\n",
    "Outliers can significantly affect measures of central tendency and dispersion:\n",
    "\n",
    "Mean: Outliers can skew the mean, making it unrepresentative of the dataset.\n",
    "Example: Data [10, 12, 14, 16, 100], mean = \n",
    "\n",
    "10+12+14+16+100\n",
    "​\n",
    " =30.4 (not representative of the majority).\n",
    "\n",
    "Median: Less affected by outliers, providing a better central tendency measure for skewed data.\n",
    "Example: Data [10, 12, 14, 16, 100], median = 14.\n",
    "\n",
    "Mode: Not affected by outliers since it is the most frequent value.\n",
    "Example: Data [10, 12, 14, 16, 100, 100], mode = 100.\n",
    "\n",
    "Range, Variance, and Standard Deviation: Outliers increase the range, variance, and standard deviation, exaggerating the dispersion.\n",
    "Example: Data [10, 12, 14, 16, 100], range = \n",
    "100\n",
    "−\n",
    "10\n",
    "=\n",
    "90\n",
    "\n"
   ]
  },
  {
   "cell_type": "markdown",
   "id": "d0fcb82e-1ca8-454d-83d1-56af42c8884c",
   "metadata": {},
   "source": [
    "#Answer 14  :\n",
    "\n",
    "\n"
   ]
  },
  {
   "cell_type": "code",
   "execution_count": null,
   "id": "2139e5f2-ba68-474d-88e2-260382b3394b",
   "metadata": {},
   "outputs": [],
   "source": []
  }
 ],
 "metadata": {
  "kernelspec": {
   "display_name": "Python 3 (ipykernel)",
   "language": "python",
   "name": "python3"
  },
  "language_info": {
   "codemirror_mode": {
    "name": "ipython",
    "version": 3
   },
   "file_extension": ".py",
   "mimetype": "text/x-python",
   "name": "python",
   "nbconvert_exporter": "python",
   "pygments_lexer": "ipython3",
   "version": "3.10.8"
  }
 },
 "nbformat": 4,
 "nbformat_minor": 5
}
