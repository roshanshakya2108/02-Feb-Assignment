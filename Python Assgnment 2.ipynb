{
 "cells": [
  {
   "cell_type": "code",
   "execution_count": 1,
   "id": "aece256a-5b0e-4f40-837b-ad79923039be",
   "metadata": {},
   "outputs": [
    {
     "name": "stdin",
     "output_type": "stream",
     "text": [
      "Enter your percentage:  50\n"
     ]
    },
    {
     "name": "stdout",
     "output_type": "stream",
     "text": [
      "Your grade is: D\n"
     ]
    }
   ],
   "source": [
    "#Answer 1:\n",
    "\n",
    "# Function to determine grade based on percentage\n",
    "def determine_grade(percentage):\n",
    "    if percentage > 90:\n",
    "        grade = 'A'\n",
    "    elif percentage > 80:\n",
    "        grade = 'B'\n",
    "    elif percentage >= 60:\n",
    "        grade = 'C'\n",
    "    else:\n",
    "        grade = 'D'\n",
    "    return grade\n",
    "\n",
    "# Accept percentage from the user\n",
    "percentage = float(input(\"Enter your percentage: \"))\n",
    "\n",
    "# Display the grade\n",
    "print(f\"Your grade is: {determine_grade(percentage)}\")\n"
   ]
  },
  {
   "cell_type": "code",
   "execution_count": 2,
   "id": "3142be19-b351-4803-9ceb-5ca30e2f5feb",
   "metadata": {},
   "outputs": [
    {
     "name": "stdin",
     "output_type": "stream",
     "text": [
      "Enter the cost price of the bike:  53265\n"
     ]
    },
    {
     "name": "stdout",
     "output_type": "stream",
     "text": [
      "The road tax to be paid is: Rs 5326.50\n"
     ]
    }
   ],
   "source": [
    "#Answer 2:\n",
    "\n",
    "# Function to determine road tax based on cost price\n",
    "def determine_road_tax(cost_price):\n",
    "    if cost_price > 100000:\n",
    "        tax_rate = 0.15\n",
    "    elif cost_price > 50000:\n",
    "        tax_rate = 0.10\n",
    "    else:\n",
    "        tax_rate = 0.05\n",
    "    tax = cost_price * tax_rate\n",
    "    return tax\n",
    "\n",
    "# Accept cost price from the user\n",
    "cost_price = float(input(\"Enter the cost price of the bike: \"))\n",
    "\n",
    "# Display the road tax to be paid\n",
    "print(f\"The road tax to be paid is: Rs {determine_road_tax(cost_price):.2f}\")\n"
   ]
  },
  {
   "cell_type": "code",
   "execution_count": 3,
   "id": "70714b98-6fc0-47c0-9419-2ecc07433f69",
   "metadata": {},
   "outputs": [
    {
     "name": "stdin",
     "output_type": "stream",
     "text": [
      "Enter the name of the city:  Delhi\n"
     ]
    },
    {
     "name": "stdout",
     "output_type": "stream",
     "text": [
      "The monument in Delhi is: Red Fort\n"
     ]
    }
   ],
   "source": [
    "#Answer 3:\n",
    "\n",
    "# Function to get monument based on city\n",
    "def get_monument(city):\n",
    "    monuments = {\n",
    "        'Delhi': 'Red Fort',\n",
    "        'Agra': 'Taj Mahal',\n",
    "        'Jaipur': 'Jal Mahal'\n",
    "    }\n",
    "    return monuments.get(city, \"Monument not found\")\n",
    "\n",
    "# Accept city from the user\n",
    "city = input(\"Enter the name of the city: \")\n",
    "\n",
    "# Display the monument\n",
    "print(f\"The monument in {city} is: {get_monument(city)}\")\n"
   ]
  },
  {
   "cell_type": "code",
   "execution_count": 4,
   "id": "6b278003-5e80-461c-8577-9306c43e12a4",
   "metadata": {},
   "outputs": [
    {
     "name": "stdout",
     "output_type": "stream",
     "text": [
      "The number 1000 can be divided by 3, 5 times before it is less than or equal to 10.\n"
     ]
    }
   ],
   "source": [
    "#Answer 4:\n",
    "\n",
    "def count_divisions_by_3(n):\n",
    "    count = 0\n",
    "    while n > 10:\n",
    "        n = n / 3\n",
    "        count += 1\n",
    "    return count\n",
    "\n",
    "number = 1000  # Example number\n",
    "divisions = count_divisions_by_3(number)\n",
    "print(f\"The number {number} can be divided by 3, {divisions} times before it is less than or equal to 10.\")\n"
   ]
  },
  {
   "cell_type": "code",
   "execution_count": 5,
   "id": "a144563f-99cd-4fc6-bc78-78285b149dc1",
   "metadata": {},
   "outputs": [
    {
     "name": "stdin",
     "output_type": "stream",
     "text": [
      "Enter something (type 'quit' to exit):  5\n"
     ]
    },
    {
     "name": "stdout",
     "output_type": "stream",
     "text": [
      "You entered: 5\n"
     ]
    },
    {
     "name": "stdin",
     "output_type": "stream",
     "text": [
      "Enter something (type 'quit' to exit):  quit\n"
     ]
    },
    {
     "name": "stdout",
     "output_type": "stream",
     "text": [
      "You entered: quit\n",
      "Exited loop.\n"
     ]
    }
   ],
   "source": [
    "#Answer 5:\n",
    "\n",
    "# A while loop is used in Python when you need to repeat a block of code as long as a given condition is true. Unlike for loops that iterate over a sequence, while loops are particularly useful when the number of iterations is not known beforehand and is dependent on a condition being met.\n",
    "\n",
    "# Why Use while Loops:\n",
    "\n",
    "# Indeterminate Iterations: When the number of iterations is not predetermined.\n",
    "# Condition-Based Execution: When the execution of the loop should continue as long as a specific condition holds true.\n",
    "# Flexibility: Allows more flexible control structures since the condition can involve complex expressions and change during the loop.\n",
    "# When to Use while Loops:\n",
    "\n",
    "# Input Validation: Continuously prompt a user until a valid input is provided.\n",
    "# Polling/Waiting: Wait for some condition to change (e.g., waiting for a file to exist).\n",
    "# Infinite Loops: When intentionally creating loops that should run until an external condition stops them (like servers handling requests).\n",
    "# Example:\n",
    "\n",
    "# Example of a while loop for input validation\n",
    "user_input = ''\n",
    "while user_input.lower() != 'quit':\n",
    "    user_input = input(\"Enter something (type 'quit' to exit): \")\n",
    "    print(f\"You entered: {user_input}\")\n",
    "print(\"Exited loop.\")\n",
    "\n"
   ]
  },
  {
   "cell_type": "code",
   "execution_count": 9,
   "id": "7a33fa47-e0e6-45db-8794-0c5456d787cb",
   "metadata": {},
   "outputs": [
    {
     "name": "stdout",
     "output_type": "stream",
     "text": [
      "Right-angled triangle\n",
      "* \n",
      "* * \n",
      "* * * \n",
      "* * * * \n",
      "* * * * * \n",
      " Pyramid pattern\n",
      "        * \n",
      "      * * * \n",
      "    * * * * * \n",
      "  * * * * * * * \n",
      "* * * * * * * * * \n",
      "Inverted right-angled triangle\n",
      "* * * * * \n",
      "* * * * \n",
      "* * * \n",
      "* * \n",
      "* \n"
     ]
    }
   ],
   "source": [
    "#Answer 6:\n",
    "\n",
    "# Right-angled triangle\n",
    "print(\"Right-angled triangle\")\n",
    "rows = 5\n",
    "i = 1\n",
    "while i <= rows:\n",
    "    j = 1\n",
    "    while j <= i:\n",
    "        print('*', end=' ')\n",
    "        j += 1\n",
    "    print()\n",
    "    i += 1\n",
    "\n",
    "    \n",
    "\n",
    "\n",
    "    \n",
    "    \n",
    "# Pyramid pattern\n",
    "print(\" Pyramid pattern\")\n",
    "rows = 5\n",
    "i = 1\n",
    "while i <= rows:\n",
    "    # Printing spaces\n",
    "    space = rows - i\n",
    "    while space > 0:\n",
    "        print(' ', end=' ')\n",
    "        space -= 1\n",
    "    # Printing stars\n",
    "    j = 0\n",
    "    while j < (2 * i - 1):\n",
    "        print('*', end=' ')\n",
    "        j += 1\n",
    "    print()\n",
    "    i += 1\n",
    "    \n",
    "        \n",
    "# Inverted right-angled triangle\n",
    "print(\"Inverted right-angled triangle\")\n",
    "rows = 5\n",
    "i = rows\n",
    "while i > 0:\n",
    "    j = 0\n",
    "    while j < i:\n",
    "        print('*', end=' ')\n",
    "        j += 1\n",
    "    print()\n",
    "    i -= 1\n",
    "\n"
   ]
  },
  {
   "cell_type": "code",
   "execution_count": null,
   "id": "026b09df-18ac-49e4-8102-d7d6f87bfbd3",
   "metadata": {},
   "outputs": [],
   "source": [
    "#Answer 7:\n",
    "\n",
    "n = 10\n",
    "while n >= 1:\n",
    "    print(n)\n",
    "    n -= 1\n",
    "\n",
    "\n"
   ]
  },
  {
   "cell_type": "code",
   "execution_count": null,
   "id": "59dd661a-3343-4be4-b48d-0675ad9f09e5",
   "metadata": {},
   "outputs": [],
   "source": [
    "#Answer 8:\n",
    "\n"
   ]
  }
 ],
 "metadata": {
  "kernelspec": {
   "display_name": "Python 3 (ipykernel)",
   "language": "python",
   "name": "python3"
  },
  "language_info": {
   "codemirror_mode": {
    "name": "ipython",
    "version": 3
   },
   "file_extension": ".py",
   "mimetype": "text/x-python",
   "name": "python",
   "nbconvert_exporter": "python",
   "pygments_lexer": "ipython3",
   "version": "3.10.8"
  }
 },
 "nbformat": 4,
 "nbformat_minor": 5
}
