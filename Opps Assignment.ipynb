{
 "cells": [
  {
   "cell_type": "markdown",
   "id": "a2b2ae0d-283e-481a-90bc-9df9aabf5093",
   "metadata": {},
   "source": [
    "# Questions:\n",
    "\n",
    "Q1. What is Abstraction in OOps? Explain with an example.\n",
    "\n",
    "Q2. Differentiate between Abstraction and Encapsulation. Explain with an example.\n",
    "\n",
    "Q3. What is abc module in python? Why is it used?\n",
    "\n",
    "Q4. How can we achieve data abstraction?\n",
    "\n",
    "Q5. Can we create an instance of an abstract class? Explain your answer."
   ]
  },
  {
   "cell_type": "markdown",
   "id": "401f9881-615d-4889-a801-c738c2c37f9d",
   "metadata": {},
   "source": [
    "# Answers 1:\n",
    "\n",
    "Q1. Abstraction in OOP\n",
    "\n",
    "Abstraction is a fundamental concept in object-oriented programming (OOP) that focuses on exposing essential details while hiding internal complexities. It allows you to create a simplified view of an object, focusing on its functionality without getting bogged down by its implementation.\n",
    "\n",
    "Example:\n",
    "\n",
    "Consider a Car class. You might be interested in a car's ability to accelerate, brake, and turn, but you're not necessarily concerned with how the engine works, the specific details of the braking system, or the complex calculations involved in steering.\n",
    "\n",
    "Python Code: \n",
    "\n",
    "class Car:\n",
    "    def __init__(self, make, model, year):\n",
    "        self.make = make\n",
    "        self.model = model\n",
    "        self.year = year\n",
    "\n",
    "    def accelerate(self):\n",
    "        print(f\"The {self.make} {self.model} accelerates.\")\n",
    "\n",
    "    def brake(self):\n",
    "        print(f\"The {self.make} {self.model} brakes.\")\n",
    "\n",
    "    def turn(self, direction):\n",
    "        print(f\"The {self.make} {self.model} turns {direction}.\")"
   ]
  },
  {
   "cell_type": "markdown",
   "id": "784b6eaf-075c-4cee-beb0-95f82150df14",
   "metadata": {},
   "source": [
    "# Answers 1:\n",
    "\n",
    "Both abstraction and encapsulation are crucial for building well-structured and maintainable object-oriented programs, but they serve different purposes:\n",
    "\n",
    "Abstraction: Hides internal implementation details and exposes essential functionalities.\n",
    "Encapsulation: Bundles data (attributes) and methods (behaviors) together within a class, often using private attributes to control access.\n",
    "Example:\n",
    "\n",
    "Building upon the Car class:\n",
    "\n",
    "Python\n",
    "class Car:\n",
    "    def __init__(self, make, model, year):\n",
    "        self._engine = None  # Private attribute for the engine\n",
    "        self.make = make\n",
    "        self.model = model\n",
    "        self.year = year\n",
    "\n",
    "    def start_engine(self):\n",
    "        # Implementation to start the engine using the private _engine attribute\n",
    "        self._engine = \"Running\"  # Simplistic example\n",
    "\n",
    "    def accelerate(self):\n",
    "        if self._engine == \"Running\":\n",
    "            print(f\"The {self.make} {self.model} accelerates.\")\n",
    "        else:\n",
    "            print(\"The engine is not running. Please start it first.\")"
   ]
  },
  {
   "cell_type": "markdown",
   "id": "bd97aef8-067e-444d-a3ca-cdbe66d0e198",
   "metadata": {},
   "source": [
    "# Answers 1:\n",
    "\n"
   ]
  },
  {
   "cell_type": "markdown",
   "id": "19e3b985-16ad-42cd-a69d-7f231acaafb1",
   "metadata": {},
   "source": [
    "# Answers 1:\n",
    "\n"
   ]
  },
  {
   "cell_type": "markdown",
   "id": "80d5d8e1-d8f4-4d9b-9c3f-4c49ca73739c",
   "metadata": {},
   "source": [
    "# Answers 1:\n",
    "\n"
   ]
  },
  {
   "cell_type": "code",
   "execution_count": null,
   "id": "3e521e18-78cb-44fa-a209-e6852d0c3c71",
   "metadata": {},
   "outputs": [],
   "source": []
  }
 ],
 "metadata": {
  "kernelspec": {
   "display_name": "Python 3 (ipykernel)",
   "language": "python",
   "name": "python3"
  },
  "language_info": {
   "codemirror_mode": {
    "name": "ipython",
    "version": 3
   },
   "file_extension": ".py",
   "mimetype": "text/x-python",
   "name": "python",
   "nbconvert_exporter": "python",
   "pygments_lexer": "ipython3",
   "version": "3.10.8"
  }
 },
 "nbformat": 4,
 "nbformat_minor": 5
}
