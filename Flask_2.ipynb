{
 "cells": [
  {
   "cell_type": "markdown",
   "id": "a7496dba-c0f7-458e-b79a-d8eaa0279cc5",
   "metadata": {},
   "source": [
    "Q1. Explain GET and POST methods.\n",
    "\n",
    "Q2. Why is request used in Flask?\n",
    "\n",
    "Q3. Why is redirect() used in Flask?\n",
    "\n",
    "Q4. What are templates in Flask? Why is the render_template() function used?\n",
    "\n",
    "Q5. Create a simple API. Use Postman to test it. Attach the screenshot of the output in the Jupyter Notebook."
   ]
  },
  {
   "cell_type": "markdown",
   "id": "fe7c6027-cd2f-4090-961e-6702062f64e3",
   "metadata": {},
   "source": [
    "Q1. Explain GET and POST methods.\n",
    "\n",
    "### GET Method:\n",
    "\n",
    "The GET method is used to request data from a specified resource.\n",
    "Requests using GET should only retrieve data and should have no other effect.\n",
    "Data sent using GET is appended to the URL, so it's visible and not secure.\n",
    "It's idempotent, meaning multiple identical requests should have the same effect as a single request.\n",
    "\n",
    "### POST Method:\n",
    "\n",
    "The POST method is used to send data to a server to create/update a resource.\n",
    "Data sent using POST is included in the body of the request, making it more secure than GET.\n",
    "It's not idempotent, meaning multiple identical requests can have different effects.\n",
    "Typically used when submitting forms or uploading files."
   ]
  },
  {
   "cell_type": "markdown",
   "id": "cb3e68b3-da76-401a-b5aa-b3a6ecd0f8ac",
   "metadata": {},
   "source": [
    "Q2. Why is request used in Flask?\n",
    "\n",
    "In Flask, the request object is used to handle data sent to the server by the client. It allows you to access form data, query parameters, file uploads, and other request metadata. It is essential for retrieving data from the client's HTTP request, such as:\n",
    "\n",
    "-URL parameters\n",
    "\n",
    "-Form data submitted via POST\n",
    "\n",
    "-JSON data in the request body\n",
    "\n",
    "-Headers and cookies"
   ]
  },
  {
   "cell_type": "markdown",
   "id": "e3f153ec-d436-44a5-abf8-9557be879434",
   "metadata": {},
   "source": [
    "Q3. Why is redirect() used in Flask?\n",
    "\n",
    "The redirect() function in Flask is used to redirect the client to a different URL. It is useful for:\n",
    "\n",
    "Redirecting users to a different route after form submission.\n",
    "Handling URL changes while keeping the client informed.\n",
    "Enhancing user experience by navigating between different pages without manual intervention."
   ]
  },
  {
   "cell_type": "markdown",
   "id": "4ded32da-f20a-451c-8aec-ba51f04dd9db",
   "metadata": {},
   "source": [
    "Q4. What are templates in Flask? Why is the render_template() function used?\n",
    "\n",
    "\n",
    "### Templates in Flask:\n",
    "\n",
    "Templates in Flask are files that contain HTML, along with placeholders for dynamic data.\n",
    "They allow you to separate the presentation layer (HTML/CSS) from the business logic (Python code).\n",
    "\n",
    "### render_template() Function:\n",
    "\n",
    "The render_template() function is used to render a template file, passing data to it.\n",
    "It takes the template file name and any context variables needed by the template.\n",
    "This allows for dynamic content generation in HTML based on the data provided."
   ]
  },
  {
   "cell_type": "code",
   "execution_count": null,
   "id": "4b9e41c3-b3ab-4a73-9bd5-b502f2624ac0",
   "metadata": {},
   "outputs": [],
   "source": [
    "Q5. Create a Simple API and Test it with Postman"
   ]
  }
 ],
 "metadata": {
  "kernelspec": {
   "display_name": "Python 3 (ipykernel)",
   "language": "python",
   "name": "python3"
  },
  "language_info": {
   "codemirror_mode": {
    "name": "ipython",
    "version": 3
   },
   "file_extension": ".py",
   "mimetype": "text/x-python",
   "name": "python",
   "nbconvert_exporter": "python",
   "pygments_lexer": "ipython3",
   "version": "3.10.8"
  }
 },
 "nbformat": 4,
 "nbformat_minor": 5
}
