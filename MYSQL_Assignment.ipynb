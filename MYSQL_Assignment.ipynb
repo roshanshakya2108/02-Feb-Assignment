{
 "cells": [
  {
   "cell_type": "markdown",
   "id": "4cfa7c1d-481b-4d7f-8146-a63bdefc6da7",
   "metadata": {},
   "source": [
    "What is a database? Differentiate between SQL and NoSQL databases."
   ]
  },
  {
   "cell_type": "markdown",
   "id": "7d53154f-b857-48bd-8cfd-377e093f6e76",
   "metadata": {},
   "source": [
    "##ANSWER 1:\n",
    "\n",
    "A database is a structured collection of data that is electronically stored and organized in a way that allows for easy access, retrieval, and manipulation.  Think of it as a giant filing cabinet for information, but instead of folders and papers, you have tables, rows, and columns to organize your data.\n",
    "\n",
    "SQL databases are like well-organized filing cabinets with predefined structures for data. They use a special language (SQL) to access information. NoSQL databases are more flexible, like filing boxes where you can store different kinds of data and adjust the organization as needed. They use different query methods depending on the data format.  Choose SQL for structured data and complex queries, NoSQL for big or unstructured data that needs to scale.\n"
   ]
  },
  {
   "cell_type": "markdown",
   "id": "407e5775-f117-4e14-8aef-fa7fd132de55",
   "metadata": {},
   "source": [
    "Q2. What is DDL? Explain why CREATE, DROP, ALTER, and TRUNCATE are used with an example."
   ]
  },
  {
   "cell_type": "markdown",
   "id": "a28cae21-2613-4fe4-9404-9cf286aad31d",
   "metadata": {},
   "source": [
    "ANSWER 2:\n",
    "\n",
    "DDL stands for Data Definition Language. It's a set of commands in SQL used to manage the structure of your database objects, like tables.  Here's a quick rundown of the four main DDL commands and why you'd use them:\n",
    "\n",
    "CREATE: This builds new database objects, like tables to store your data. Imagine creating new folders in your filing cabinet.\n",
    "DROP: This removes unwanted database objects entirely. Be careful, as dropped data is permanently gone! Think of throwing away old folders and their contents.\n",
    "ALTER: This modifies the structure of existing tables. You can add new columns, change data types, or remove columns you don't need anymore. This is like adding new compartments to existing folders or changing the labels.\n",
    "TRUNCATE: This removes all the data from a table, but keeps the table structure itself. Imagine emptying all the files out of a folder but keeping the folder itself for future use.\n",
    "\n",
    "pen_spark\n",
    "\n",
    "\n",
    "\n",
    "    \n",
    "    "
   ]
  },
  {
   "cell_type": "markdown",
   "id": "edde9ca8-25ed-42f3-a67c-21b481e16838",
   "metadata": {},
   "source": [
    "Q3. What is DML? Explain INSERT, UPDATE, and DELETE with an example."
   ]
  },
  {
   "cell_type": "markdown",
   "id": "d2bee32d-454a-42bd-8323-c3301eae1699",
   "metadata": {},
   "source": [
    "ANSWER 3:\n",
    "\n",
    "DML stands for Data Manipulation Language. It's another set of SQL commands that focus on, well, manipulating the data itself within your database tables. Here are the three main DML operations:\n",
    "\n",
    "INSERT: This adds new rows of data to your tables. Imagine inserting new files into your folders.\n",
    "UPDATE: This modifies existing data within a table. You can change specific values in certain rows. Think of correcting typos or updating information in your files.\n",
    "DELETE: This removes unwanted rows of data from a table. Be careful, as deleted data is gone! Picture throwing away outdated files from your folders."
   ]
  },
  {
   "cell_type": "markdown",
   "id": "373a9744-3509-4b57-b8ae-a9b77a87eb81",
   "metadata": {},
   "source": [
    "Q4. What is DQL? Explain SELECT with an example."
   ]
  },
  {
   "cell_type": "markdown",
   "id": "ba7009b0-5512-4272-a9e1-1668075e5a37",
   "metadata": {},
   "source": [
    "ANSWER 4:\n",
    "\n",
    "DQL stands for Data Query Language. It's the part of SQL that lets you retrieve data from your database tables. There's one main command here:\n",
    "\n",
    "SELECT: This is used to pick specific data from your tables. You can choose which columns (data points) to view and filter the results based on certain conditions. Imagine searching through your filing cabinet folders to find specific documents that meet certain criteria. For instance, SELECT Name, Email FROM Customers WHERE City = 'New York' would find names and emails of customers from New York City."
   ]
  },
  {
   "cell_type": "markdown",
   "id": "6b42cab9-af3d-497b-9fa5-aee904f9b306",
   "metadata": {},
   "source": [
    "Q5. Explain Primary Key and Foreign Key.\n",
    "\n"
   ]
  },
  {
   "cell_type": "markdown",
   "id": "9d2c7720-83a0-4e4d-8586-ae384c712b27",
   "metadata": {},
   "source": [
    "Primary Key:\n",
    "\n",
    "Uniquely identifies each row in a table (like a social security number for people).\n",
    "Ensures no duplicate records exist.\n",
    "Usually not null (must have a value).\n",
    "Foreign Key:\n",
    "\n",
    "Creates a link between two tables by referencing the primary key of another table.\n",
    "Enforces referential integrity (data consistency).\n",
    "Allows null values (sometimes a row may not have a related record)."
   ]
  },
  {
   "cell_type": "markdown",
   "id": "8b86eeae-d983-4031-8e04-b9ca11eaeeff",
   "metadata": {},
   "source": [
    "Q6. Write a python code to connect MySQL to python. Explain the cursor() and execute() method."
   ]
  },
  {
   "cell_type": "code",
   "execution_count": 2,
   "id": "760c0191-fc9d-4053-90e9-0906b205598d",
   "metadata": {},
   "outputs": [
    {
     "ename": "ModuleNotFoundError",
     "evalue": "No module named 'mysql'",
     "output_type": "error",
     "traceback": [
      "\u001b[0;31m---------------------------------------------------------------------------\u001b[0m",
      "\u001b[0;31mModuleNotFoundError\u001b[0m                       Traceback (most recent call last)",
      "Cell \u001b[0;32mIn[2], line 1\u001b[0m\n\u001b[0;32m----> 1\u001b[0m \u001b[38;5;28;01mimport\u001b[39;00m \u001b[38;5;21;01mmysql\u001b[39;00m\u001b[38;5;21;01m.\u001b[39;00m\u001b[38;5;21;01mconnector\u001b[39;00m\n\u001b[1;32m      3\u001b[0m \u001b[38;5;66;03m# Connect to MySQL database\u001b[39;00m\n\u001b[1;32m      4\u001b[0m mydb \u001b[38;5;241m=\u001b[39m mysql\u001b[38;5;241m.\u001b[39mconnector\u001b[38;5;241m.\u001b[39mconnect(\n\u001b[1;32m      5\u001b[0m     host\u001b[38;5;241m=\u001b[39m\u001b[38;5;124m\"\u001b[39m\u001b[38;5;124mlocalhost\u001b[39m\u001b[38;5;124m\"\u001b[39m,\n\u001b[1;32m      6\u001b[0m     user\u001b[38;5;241m=\u001b[39m\u001b[38;5;124m\"\u001b[39m\u001b[38;5;124mabc\u001b[39m\u001b[38;5;124m\"\u001b[39m,\n\u001b[1;32m      7\u001b[0m     password\u001b[38;5;241m=\u001b[39m\u001b[38;5;124m\"\u001b[39m\u001b[38;5;124mpassword\u001b[39m\u001b[38;5;124m\"\u001b[39m,\n\u001b[1;32m      8\u001b[0m )\n",
      "\u001b[0;31mModuleNotFoundError\u001b[0m: No module named 'mysql'"
     ]
    }
   ],
   "source": [
    "import mysql.connector\n",
    "\n",
    "# Connect to MySQL database\n",
    "mydb = mysql.connector.connect(\n",
    "    host=\"localhost\",\n",
    "    user=\"abc\",\n",
    "    password=\"password\",\n",
    ")\n",
    "\n",
    "# Create a cursor object\n",
    "mycursor = mydb.cursor()\n",
    "\n",
    "# Sample query to execute\n",
    "query = \"SELECT * FROM yourtablename\"  # Replace with your desired query\n",
    "\n",
    "# Execute the query\n",
    "mycursor.execute(query)\n",
    "\n",
    "# Fetch results (depending on your query)\n",
    "# For example, to fetch all rows:\n",
    "results = mycursor.fetchall()\n",
    "\n",
    "# Process the results (e.g., print, store in variables)\n",
    "for row in results:\n",
    "    print(row)\n",
    "\n",
    "# Close the cursor and connection\n",
    "mycursor.close()\n",
    "mydb.close()"
   ]
  },
  {
   "cell_type": "markdown",
   "id": "f63f8ca6-4c3d-49e1-8858-63f00a94813b",
   "metadata": {},
   "source": [
    "Q7. Order of Execution in SQL Queries"
   ]
  },
  {
   "cell_type": "markdown",
   "id": "92f7f22c-21fb-43aa-9d6d-8ad13291d6c4",
   "metadata": {},
   "source": [
    "The order of execution in SQL queries generally follows this sequence:\n",
    "\n",
    "FROM Clause: Specifies the tables involved in the query.\n",
    "WHERE Clause: Filters the data based on specific conditions.\n",
    "GROUP BY Clause (Optional): Groups data for aggregate functions (e.g., SUM, COUNT).\n",
    "HAVING Clause (Optional): Filters groups created by GROUP BY.\n",
    "ORDER BY Clause (Optional): Sorts the results based on specified columns.\n",
    "SELECT Clause: Defines the columns to be retrieved."
   ]
  },
  {
   "cell_type": "code",
   "execution_count": null,
   "id": "1d3d4393-f6ab-472b-b4c2-1cb4fbb40414",
   "metadata": {},
   "outputs": [],
   "source": []
  }
 ],
 "metadata": {
  "kernelspec": {
   "display_name": "Python 3 (ipykernel)",
   "language": "python",
   "name": "python3"
  },
  "language_info": {
   "codemirror_mode": {
    "name": "ipython",
    "version": 3
   },
   "file_extension": ".py",
   "mimetype": "text/x-python",
   "name": "python",
   "nbconvert_exporter": "python",
   "pygments_lexer": "ipython3",
   "version": "3.10.8"
  }
 },
 "nbformat": 4,
 "nbformat_minor": 5
}
