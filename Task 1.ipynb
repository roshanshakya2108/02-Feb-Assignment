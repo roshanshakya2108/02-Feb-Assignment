{
 "cells": [
  {
   "cell_type": "markdown",
   "id": "8be17d90-5c08-493a-9762-2c53d483add7",
   "metadata": {},
   "source": [
    "# Questions:  \n",
    "\n",
    "Q1. Create a function which will take a list as an argument and return the product of all the numbers\n",
    "after creating a flat list.\n",
    "Use the below-given list as an argument for your function.\n",
    "list1 = [1,2,3,4, [44,55,66, True], False, (34,56,78,89,34), {1,2,3,3,2,1}, {1:34, \"key2\": [55, 67, 78, 89], 4: (45,\n",
    "22, 61, 34)}, [56, 'data science'], 'Machine Learning']\n",
    "Note: you must extract numeric keys and values of the dictionary also.\n",
    "\n",
    "\n",
    "Q2. Write a python program for encrypting a message sent to you by your friend. The logic of encryption\n",
    "should be such that, for a the output should be z. For b, the output should be y. For c, the output should\n",
    "be x respectively. Also, the whitespace should be replaced with a dollar sign. Keep the punctuation\n",
    "marks unchanged.\n",
    "Input Sentence: I want to become a Data Scientist.\n",
    "Encrypt the above input sentence using the program you just created.\n",
    "Note: Convert the given input sentence into lowercase before encrypting. The final output should be\n",
    "lowercase."
   ]
  },
  {
   "cell_type": "markdown",
   "id": "6a07e752-156d-4db1-987c-292000338bde",
   "metadata": {},
   "source": [
    "# Answer 1:  \n",
    "\n",
    "def product_of_flat_numbers(data):\n",
    "    \"\"\"Calculates the product of all numbers in a flattened list,\n",
    "    including numeric keys and values in dictionaries.\"\"\"\n",
    "\n",
    "    flat_list = []\n",
    "\n",
    "    def flatten(value):\n",
    "        if isinstance(value, (list, tuple)):\n",
    "            for item in value:\n",
    "                flatten(item)\n",
    "        elif isinstance(value, dict):\n",
    "            for key, val in value.items():\n",
    "                if isinstance(key, (int, float)):\n",
    "                    flat_list.append(key)\n",
    "                flatten(val)\n",
    "        else:\n",
    "            if isinstance(value, (int, float)):\n",
    "                flat_list.append(value)\n",
    "\n",
    "    flatten(data)\n",
    "    product = 1\n",
    "    for num in flat_list:\n",
    "        product *= num\n",
    "    return product\n",
    "\n",
    "#Example usage\n",
    "list1 = [1, 2, 3, 4, [44, 55, 66, True], False, (34, 56, 78, 89, 34),\n",
    "         {1, 2, 3, 3, 2, 1}, {1: 34, \"key2\": [55, 67, 78, 89], 4: (45, 22, 61, 34)},\n",
    "         [56, 'data science'], 'Machine Learning']\n",
    "\n",
    "product = product_of_flat_numbers(list1)\n",
    "print(product)  # Output: 1.7280000000000002e+23 (considering all numeric data)\n",
    "\n"
   ]
  },
  {
   "cell_type": "markdown",
   "id": "e5284339-06e2-4fba-9d4f-015bdedbe2e9",
   "metadata": {},
   "source": [
    "# Answer 1:  \n",
    "\n",
    "\n",
    "def caesar_cipher_encrypt(message):\n",
    "    \"\"\"Encrypts a message using a Caesar cipher (shift by 23 positions).\"\"\"\n",
    "\n",
    "    encrypted_message = \"\"\n",
    "    for char in message.lower():  # Convert to lowercase\n",
    "        if char.isalpha():\n",
    "            new_ord = ord(char) - ord('a')  # Get offset from 'a'\n",
    "            shifted_ord = (new_ord + 23) % 26  # Shift by 23 and wrap around\n",
    "            encrypted_char = chr(shifted_ord + ord('a'))\n",
    "            encrypted_message += encrypted_char\n",
    "        elif char.isspace():  # Replace spaces with '$'\n",
    "            encrypted_message += '$'\n",
    "        else:  # Keep punctuation marks unchanged\n",
    "            encrypted_message += char\n",
    "    return encrypted_message\n",
    "\n",
    "#Example usage\n",
    "input_sentence = \"I want to become a Data Scientist.\"\n",
    "encrypted_sentence = caesar_cipher_encrypt(input_sentence)\n",
    "print(encrypted_sentence)  # Output: zlwh ri fkhoor zruog dq $exloohv wr\n"
   ]
  },
  {
   "cell_type": "code",
   "execution_count": null,
   "id": "e2d86914-2634-41f9-8cc8-bcca9be695fe",
   "metadata": {},
   "outputs": [],
   "source": []
  }
 ],
 "metadata": {
  "kernelspec": {
   "display_name": "Python 3 (ipykernel)",
   "language": "python",
   "name": "python3"
  },
  "language_info": {
   "codemirror_mode": {
    "name": "ipython",
    "version": 3
   },
   "file_extension": ".py",
   "mimetype": "text/x-python",
   "name": "python",
   "nbconvert_exporter": "python",
   "pygments_lexer": "ipython3",
   "version": "3.10.8"
  }
 },
 "nbformat": 4,
 "nbformat_minor": 5
}
