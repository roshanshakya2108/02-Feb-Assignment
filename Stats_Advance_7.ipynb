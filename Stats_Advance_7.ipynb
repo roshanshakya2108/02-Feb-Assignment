{
 "cells": [
  {
   "cell_type": "code",
   "execution_count": 1,
   "id": "390f34c6-7a57-43ff-a32c-3c2d30af8759",
   "metadata": {},
   "outputs": [
    {
     "name": "stdout",
     "output_type": "stream",
     "text": [
      "F-value: 1.0, p-value: 0.5\n"
     ]
    }
   ],
   "source": [
    "#Answer 1  :\n",
    "\n",
    "\n",
    "import numpy as np\n",
    "from scipy.stats import f\n",
    "\n",
    "def f_test(data1, data2):\n",
    "    var1 = np.var(data1, ddof=1)\n",
    "    var2 = np.var(data2, ddof=1)\n",
    "    f_value = var1 / var2 if var1 > var2 else var2 / var1\n",
    "    dfn = len(data1) - 1\n",
    "    dfd = len(data2) - 1\n",
    "    p_value = 1 - f.cdf(f_value, dfn, dfd)\n",
    "    return f_value, p_value\n",
    "\n",
    "# Example usage\n",
    "data1 = [10, 20, 30, 40, 50]\n",
    "data2 = [15, 25, 35, 45, 55]\n",
    "f_value, p_value = f_test(data1, data2)\n",
    "print(f\"F-value: {f_value}, p-value: {p_value}\")\n",
    "\n"
   ]
  },
  {
   "cell_type": "code",
   "execution_count": 2,
   "id": "3c262e15-01d4-499b-aa3b-008baaa8fc7e",
   "metadata": {},
   "outputs": [
    {
     "name": "stdout",
     "output_type": "stream",
     "text": [
      "Critical F-value: 4.236085668188633\n"
     ]
    }
   ],
   "source": [
    "#Answer 2 :\n",
    "\n",
    "\n",
    "from scipy.stats import f\n",
    "\n",
    "def critical_f_value(alpha, dfn, dfd):\n",
    "    return f.ppf(1 - alpha / 2, dfn, dfd)\n",
    "\n",
    "# Example usage\n",
    "alpha = 0.05\n",
    "dfn = 5\n",
    "dfd = 10\n",
    "critical_value = critical_f_value(alpha, dfn, dfd)\n",
    "print(f\"Critical F-value: {critical_value}\")\n",
    "\n"
   ]
  },
  {
   "cell_type": "code",
   "execution_count": 3,
   "id": "ac831c49-fa30-42c1-8cce-d51316f81fbe",
   "metadata": {},
   "outputs": [
    {
     "name": "stdout",
     "output_type": "stream",
     "text": [
      "F-value: 2.6797553665115768, df1: 19, df2: 29, p-value: 0.00820113642719722\n"
     ]
    }
   ],
   "source": [
    "#Answer  3:\n",
    "\n",
    "\n",
    "import numpy as np\n",
    "from scipy.stats import f\n",
    "\n",
    "def generate_samples_and_f_test(n1, n2, var1, var2):\n",
    "    sample1 = np.random.normal(0, np.sqrt(var1), n1)\n",
    "    sample2 = np.random.normal(0, np.sqrt(var2), n2)\n",
    "    f_value, p_value = f_test(sample1, sample2)\n",
    "    return f_value, len(sample1)-1, len(sample2)-1, p_value\n",
    "\n",
    "# Example usage\n",
    "f_value, dfn, dfd, p_value = generate_samples_and_f_test(20, 30, 4, 9)\n",
    "print(f\"F-value: {f_value}, df1: {dfn}, df2: {dfd}, p-value: {p_value}\")\n",
    "\n"
   ]
  },
  {
   "cell_type": "code",
   "execution_count": 4,
   "id": "3ffd182b-156c-451f-a784-daba08726f25",
   "metadata": {},
   "outputs": [
    {
     "name": "stdout",
     "output_type": "stream",
     "text": [
      "F-value: 1.5, p-value: 0.25619489936789974, Critical value: 3.473699051085809\n"
     ]
    }
   ],
   "source": [
    "#Answer 4 :\n",
    "\n",
    "\n",
    "def conduct_f_test(var1, var2, n1, n2, alpha):\n",
    "    f_value = var1 / var2 if var1 > var2 else var2 / var1\n",
    "    dfn = n1 - 1\n",
    "    dfd = n2 - 1\n",
    "    p_value = 1 - f.cdf(f_value, dfn, dfd)\n",
    "    critical_value = critical_f_value(alpha, dfn, dfd)\n",
    "    return f_value, p_value, critical_value\n",
    "\n",
    "# Example usage\n",
    "var1 = 10\n",
    "var2 = 15\n",
    "n1 = 12\n",
    "n2 = 12\n",
    "alpha = 0.05\n",
    "f_value, p_value, critical_value = conduct_f_test(var1, var2, n1, n2, alpha)\n",
    "print(f\"F-value: {f_value}, p-value: {p_value}, Critical value: {critical_value}\")\n",
    "\n"
   ]
  },
  {
   "cell_type": "code",
   "execution_count": 5,
   "id": "b909cdd3-c3e6-4f4e-9eaf-ef76e7eee651",
   "metadata": {},
   "outputs": [
    {
     "name": "stdout",
     "output_type": "stream",
     "text": [
      "F-value: 1.2, p-value: 0.3293654682817244, Critical value: 2.966741631292762\n"
     ]
    }
   ],
   "source": [
    "#Answer 5 :\n",
    "\n",
    "\n",
    "def f_test_manufacturer(var_sample, var_population, n, alpha):\n",
    "    f_value = var_sample / var_population\n",
    "    dfn = n - 1\n",
    "    dfd = n - 1\n",
    "    p_value = 1 - f.cdf(f_value, dfn, dfd)\n",
    "    critical_value = critical_f_value(alpha, dfn, dfd)\n",
    "    return f_value, p_value, critical_value\n",
    "\n",
    "# Example usage\n",
    "var_sample = 0.006\n",
    "var_population = 0.005\n",
    "n = 25\n",
    "alpha = 0.01\n",
    "f_value, p_value, critical_value = f_test_manufacturer(var_sample, var_population, n, alpha)\n",
    "print(f\"F-value: {f_value}, p-value: {p_value}, Critical value: {critical_value}\")\n",
    "\n"
   ]
  },
  {
   "cell_type": "code",
   "execution_count": 6,
   "id": "137674ad-a9c9-4498-8d5b-c15f4fb8bc92",
   "metadata": {},
   "outputs": [
    {
     "name": "stdout",
     "output_type": "stream",
     "text": [
      "Mean: 1.25, Variance: 1.3541666666666667\n"
     ]
    }
   ],
   "source": [
    "#Answer  6:\n",
    "\n",
    "def f_distribution_mean_variance(dfn, dfd):\n",
    "    if dfd > 2:\n",
    "        mean = dfd / (dfd - 2)\n",
    "    else:\n",
    "        mean = np.nan  # Mean is undefined for dfd <= 2\n",
    "    \n",
    "    if dfd > 4:\n",
    "        variance = (2 * dfd**2 * (dfn + dfd - 2)) / (dfn * (dfd - 2)**2 * (dfd - 4))\n",
    "    else:\n",
    "        variance = np.nan  # Variance is undefined for dfd <= 4\n",
    "    \n",
    "    return mean, variance\n",
    "\n",
    "# Example usage\n",
    "dfn = 5\n",
    "dfd = 10\n",
    "mean, variance = f_distribution_mean_variance(dfn, dfd)\n",
    "print(f\"Mean: {mean}, Variance: {variance}\")\n",
    "\n",
    "\n"
   ]
  },
  {
   "cell_type": "code",
   "execution_count": 7,
   "id": "644fa8eb-eae3-481d-b6f0-341282baab54",
   "metadata": {},
   "outputs": [
    {
     "name": "stdout",
     "output_type": "stream",
     "text": [
      "F-value: 1.25, p-value: 0.3416097191292977, Critical value: 2.6457907352338195\n"
     ]
    }
   ],
   "source": [
    "#Answer 7 :\n",
    "\n",
    "\n",
    "def f_test_sample_variances(var1, var2, n1, n2, alpha):\n",
    "    f_value = var1 / var2 if var1 > var2 else var2 / var1\n",
    "    dfn = n1 - 1\n",
    "    dfd = n2 - 1\n",
    "    p_value = 1 - f.cdf(f_value, dfn, dfd)\n",
    "    critical_value = critical_f_value(alpha, dfn, dfd)\n",
    "    return f_value, p_value, critical_value\n",
    "\n",
    "# Example usage\n",
    "var1 = 25\n",
    "var2 = 20\n",
    "n1 = 10\n",
    "n2 = 15\n",
    "alpha = 0.10\n",
    "f_value, p_value, critical_value = f_test_sample_variances(var1, var2, n1, n2, alpha)\n",
    "print(f\"F-value: {f_value}, p-value: {p_value}, Critical value: {critical_value}\")\n",
    "\n"
   ]
  },
  {
   "cell_type": "code",
   "execution_count": 8,
   "id": "36eff71c-1c92-4e5b-8fdf-0185d9a00765",
   "metadata": {},
   "outputs": [
    {
     "name": "stdout",
     "output_type": "stream",
     "text": [
      "F-value: 1.4551907719609583, p-value: 0.3487407873968742, Critical value: 6.977701858535566\n"
     ]
    }
   ],
   "source": [
    "#Answer8  :\n",
    "\n",
    "\n",
    "data1 = [24, 25, 28, 23, 22, 20, 27]\n",
    "data2 = [31, 33, 35, 30, 32, 36]\n",
    "f_value, p_value = f_test(data1, data2)\n",
    "dfn = len(data1) - 1\n",
    "dfd = len(data2) - 1\n",
    "alpha = 0.05\n",
    "critical_value = critical_f_value(alpha, dfn, dfd)\n",
    "print(f\"F-value: {f_value}, p-value: {p_value}, Critical value: {critical_value}\")\n",
    "\n"
   ]
  },
  {
   "cell_type": "code",
   "execution_count": 9,
   "id": "ad03a75d-b33f-46ff-8625-56655cb1e92a",
   "metadata": {},
   "outputs": [
    {
     "name": "stdout",
     "output_type": "stream",
     "text": [
      "F-value: 1.9442622950819677, p-value: 0.2415521774535344, Critical value: 14.939605459912224\n"
     ]
    }
   ],
   "source": [
    "#Answer9  :\n",
    "\n",
    "\n",
    "data1 = [80, 85, 90, 92, 87, 83]\n",
    "data2 = [75, 78, 82, 79, 81, 84]\n",
    "f_value, p_value = f_test(data1, data2)\n",
    "dfn = len(data1) - 1\n",
    "dfd = len(data2) - 1\n",
    "alpha = 0.01\n",
    "critical_value = critical_f_value(alpha, dfn, dfd)\n",
    "print(f\"F-value: {f_value}, p-value: {p_value}, Critical value: {critical_value}\")\n",
    "\n"
   ]
  },
  {
   "cell_type": "code",
   "execution_count": null,
   "id": "33d49e5d-8f6f-4fe1-ba3e-772cba7e860f",
   "metadata": {},
   "outputs": [],
   "source": []
  }
 ],
 "metadata": {
  "kernelspec": {
   "display_name": "Python 3 (ipykernel)",
   "language": "python",
   "name": "python3"
  },
  "language_info": {
   "codemirror_mode": {
    "name": "ipython",
    "version": 3
   },
   "file_extension": ".py",
   "mimetype": "text/x-python",
   "name": "python",
   "nbconvert_exporter": "python",
   "pygments_lexer": "ipython3",
   "version": "3.10.8"
  }
 },
 "nbformat": 4,
 "nbformat_minor": 5
}
