{
 "cells": [
  {
   "cell_type": "code",
   "execution_count": 1,
   "id": "e4582500-52ad-4189-834b-e79d478b82df",
   "metadata": {},
   "outputs": [
    {
     "name": "stdout",
     "output_type": "stream",
     "text": [
      "Buddy is 3 years old.\n",
      "Buddy says Woof!\n",
      "Max is 5 years old.\n",
      "Max says Woof!\n"
     ]
    }
   ],
   "source": [
    "# In Python, as in many other object-oriented programming (OOP) languages, a class is a blueprint for creating objects, while an object is an instance of a class.\n",
    "\n",
    "# A class defines the properties (attributes) and behaviors (methods) that all objects created from it will possess. Objects, on the other hand, are concrete instances of classes. They represent individual entities with their own unique state and behavior.\n",
    "\n",
    "# Define a class called Dog\n",
    "class Dog:\n",
    "    # Constructor method to initialize object properties\n",
    "    def __init__(self, name, age):\n",
    "        self.name = name\n",
    "        self.age = age\n",
    "    \n",
    "    # Method to make the dog bark\n",
    "    def bark(self):\n",
    "        print(f\"{self.name} says Woof!\")\n",
    "\n",
    "# Create objects (instances) of the Dog class\n",
    "dog1 = Dog(\"Buddy\", 3)\n",
    "dog2 = Dog(\"Max\", 5)\n",
    "\n",
    "# Accessing object attributes and calling methods\n",
    "print(f\"{dog1.name} is {dog1.age} years old.\")\n",
    "dog1.bark()\n",
    "\n",
    "print(f\"{dog2.name} is {dog2.age} years old.\")\n",
    "dog2.bark()\n"
   ]
  },
  {
   "cell_type": "code",
   "execution_count": 2,
   "id": "9ccd99a8-134c-4dc7-99a2-47da86c07f25",
   "metadata": {},
   "outputs": [],
   "source": [
    "# The four pillars of OOP:\n",
    "\n",
    "# Encapsulation: Bundling data and methods into a single unit (class) and hiding the internal state from outside access.\n",
    "# Inheritance: Allowing a class (subclass) to inherit attributes and methods from another class (superclass), promoting code reuse.\n",
    "# Polymorphism: Treating objects of different classes through a common interface, enabling flexibility and extensibility.\n",
    "# Abstraction: Modeling the essential features of an object or system while hiding unnecessary details, focusing on what an object does rather than how it does it."
   ]
  },
  {
   "cell_type": "code",
   "execution_count": 3,
   "id": "422de40f-aaff-434c-8454-bafd95c9820c",
   "metadata": {},
   "outputs": [
    {
     "name": "stdout",
     "output_type": "stream",
     "text": [
      "Name: Alice, Age: 30\n",
      "Name: Bob, Age: 25\n"
     ]
    }
   ],
   "source": [
    "# The __init__() function in Python is used to initialize the attributes of an object when it is created. \n",
    "# It allows for attribute initialization, customization of the initialization process, and is automatically invoked when a new object is created. \n",
    "# It ensures that objects start with defined states.\n",
    "\n",
    "# Define a class called Person\n",
    "class Person:\n",
    "    # Initialize the object with name and age attributes\n",
    "    def __init__(self, name, age):\n",
    "        self.name = name\n",
    "        self.age = age\n",
    "    \n",
    "    # Method to display information about the person\n",
    "    def display_info(self):\n",
    "        print(f\"Name: {self.name}, Age: {self.age}\")\n",
    "\n",
    "# Create objects (instances) of the Person class\n",
    "person1 = Person(\"Alice\", 30)\n",
    "person2 = Person(\"Bob\", 25)\n",
    "\n",
    "# Display information about the persons\n",
    "person1.display_info()\n",
    "person2.display_info()\n"
   ]
  },
  {
   "cell_type": "code",
   "execution_count": 4,
   "id": "f7e96061-60be-470c-a9e0-13ed4db9b0c3",
   "metadata": {},
   "outputs": [
    {
     "name": "stdout",
     "output_type": "stream",
     "text": [
      "Value: 10\n",
      "Value: 20\n"
     ]
    }
   ],
   "source": [
    "# In Python's object-oriented programming, self is used to represent the instance of a class within its methods. \n",
    "# It allows access to instance variables and methods, differentiates instance variables, enables instance-specific operations, and ensures proper method invocation on specific instances.\n",
    "\n",
    "\n",
    "class MyClass:\n",
    "    def __init__(self, value):\n",
    "        self.value = value\n",
    "    \n",
    "    def print_value(self):\n",
    "        print(\"Value:\", self.value)\n",
    "\n",
    "# Creating instances of MyClass\n",
    "obj1 = MyClass(10)\n",
    "obj2 = MyClass(20)\n",
    "\n",
    "# Calling print_value() method on each instance\n",
    "obj1.print_value()  \n",
    "obj2.print_value()  \n",
    "\n",
    "\n",
    "\n",
    "\n"
   ]
  },
  {
   "cell_type": "code",
   "execution_count": 5,
   "id": "cb0e0dda-da12-4216-a3a7-c8e4c6643383",
   "metadata": {},
   "outputs": [],
   "source": [
    "\n",
    "# Inheritance is a fundamental concept in object-oriented programming (OOP) that allows a class (subclass or derived class) to inherit attributes and methods from another class (superclass or base class). \n",
    "# This promotes code reuse and enables the creation of hierarchical relationships between classes.\n",
    "\n",
    "class Animal:\n",
    "    def speak(self):\n",
    "        print(\"Animal speaks\")\n",
    "\n",
    "class Dog(Animal):\n",
    "    def bark(self):\n",
    "        print(\"Dog barks\")\n"
   ]
  },
  {
   "cell_type": "code",
   "execution_count": null,
   "id": "f3f13450-75e9-4a74-a2cf-b5ca3cbce2b5",
   "metadata": {},
   "outputs": [],
   "source": []
  }
 ],
 "metadata": {
  "kernelspec": {
   "display_name": "Python 3 (ipykernel)",
   "language": "python",
   "name": "python3"
  },
  "language_info": {
   "codemirror_mode": {
    "name": "ipython",
    "version": 3
   },
   "file_extension": ".py",
   "mimetype": "text/x-python",
   "name": "python",
   "nbconvert_exporter": "python",
   "pygments_lexer": "ipython3",
   "version": "3.10.8"
  }
 },
 "nbformat": 4,
 "nbformat_minor": 5
}
