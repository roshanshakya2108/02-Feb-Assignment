{
 "cells": [
  {
   "cell_type": "markdown",
   "id": "2d6f3f1c-0beb-4e73-b0db-f8d6cc84e708",
   "metadata": {},
   "source": [
    "#Answer  1 :\n",
    "\n",
    "PMF (Probability Mass Function):\n",
    "The PMF is a function that gives the probability that a discrete random variable is exactly equal to some value. It applies to discrete random variables (variables that can take on a countable number of values).\n",
    "\n",
    "Example:\n",
    "Consider a fair six-sided die. The PMF for this die is:\n",
    "\n",
    "P(X=1) = 1/6\n",
    "P(X=2) = 1/6\n",
    "P(X=3) = 1/6\n",
    "P(X=4) = 1/6\n",
    "P(X=5) = 1/6\n",
    "P(X=6) = 1/6\n",
    "PDF (Probability Density Function):\n",
    "The PDF is a function that describes the likelihood of a continuous random variable to take on a particular value. It applies to continuous random variables. The probability that the variable falls within a particular interval is the area under the curve of the PDF over that interval.\n",
    "\n",
    "Example:\n",
    "Consider a standard normal distribution (mean = 0, standard deviation = 1). "
   ]
  },
  {
   "cell_type": "markdown",
   "id": "a3bc024b-0fed-4f40-b2a4-31c8c7c74b91",
   "metadata": {},
   "source": [
    "#Answer  2 :\n",
    "\n",
    "CDF (Cumulative Density Function):\n",
    "The CDF of a random variable X is the function F(x) that gives the probability that X will take a value less than or equal to x. It is used to describe the probability distribution of a random variable.\n",
    "\n",
    "F(x)=P(X≤x)\n",
    "\n",
    "Example:\n",
    "For a fair six-sided die, the CDF can be represented as:\n",
    "\n",
    "F(1) = P(X ≤ 1) = 1/6\n",
    "F(2) = P(X ≤ 2) = 2/6\n",
    "F(3) = P(X ≤ 3) = 3/6\n",
    "F(4) = P(X ≤ 4) = 4/6\n",
    "F(5) = P(X ≤ 5) = 5/6\n",
    "F(6) = P(X ≤ 6) = 6/6 = 1\n",
    "Why CDF is used:\n",
    "The CDF is used because it provides a complete description of the distribution of the random variable. It is particularly useful for finding probabilities for intervals and for comparing different distributions.\n"
   ]
  },
  {
   "cell_type": "markdown",
   "id": "c6453e78-4443-438c-802b-438057673be3",
   "metadata": {},
   "source": [
    "#Answer  3 :\n",
    "\n",
    "Examples:\n",
    "\n",
    "Heights of people in a population.\n",
    "Test scores on standardized exams.\n",
    "Measurement errors in experiments.\n",
    "Daily stock returns.\n",
    "Parameters:\n",
    "\n",
    "Mean (μ): The central value of the distribution. It determines the location of the peak of the distribution.\n",
    "Standard Deviation (σ): Measures the spread of the distribution. A larger standard deviation results in a wider and flatter curve, while a smaller standard deviation results in a narrower and taller curve.\n"
   ]
  },
  {
   "cell_type": "markdown",
   "id": "f0b95a58-50ab-4389-8699-4bff6bc1b926",
   "metadata": {},
   "source": [
    "#Answer 4  :\n",
    "\n",
    "Importance:\n",
    "The normal distribution is important because it naturally arises in many situations due to the Central Limit Theorem, which states that the sum of a large number of independent and identically distributed random variables tends to be normally distributed, regardless of the original distribution.\n",
    "\n",
    "Real-life Examples:\n",
    "\n",
    "Heights and weights of individuals.\n",
    "Blood pressure readings.\n",
    "Measurement errors in scientific experiments.\n",
    "Scores on standardized tests like the SAT or IQ tests.\n"
   ]
  },
  {
   "cell_type": "markdown",
   "id": "40c0f3ee-e448-454e-bea0-45119ddab291",
   "metadata": {},
   "source": [
    "#Answer  5 :\n",
    "\n",
    "\n",
    "Bernoulli Distribution:\n",
    "A Bernoulli distribution is a discrete probability distribution for a random variable which has exactly two possible outcomes, usually coded as 0 and 1, with a single trial.\n",
    "\n",
    "Example:\n",
    "Flipping a coin once. The outcomes are:\n",
    "\n",
    "P(X=1) = 0.5 (heads)\n",
    "P(X=0) = 0.5 (tails)\n",
    "\n",
    "\n",
    "Difference:\n",
    "\n",
    "Bernoulli Distribution: Describes a single trial with two outcomes.\n",
    "Binomial Distribution: Describes the number of successes in a fixed number of independent Bernoulli trials."
   ]
  },
  {
   "cell_type": "markdown",
   "id": "ed6a37d9-5a74-44e8-8209-0660d630ec8e",
   "metadata": {},
   "source": [
    "#Answer  6 :\n",
    "\n",
    "Solution:\n",
    "We need to find \n",
    "\n",
    "P(X>60).\n",
    "\n",
    "Convert 60 to the z-score:\n",
    "\n",
    "z= \n",
    "σ\n",
    "X−μ\n",
    "​\n",
    " = \n",
    "10\n",
    "60−50\n",
    "​\n",
    " =1\n",
    "\n",
    "Look up the z-score in the standard normal distribution table:\n",
    "\n",
    "P(Z>1)=1−P(Z≤1)\n",
    "\n",
    "Using standard normal distribution tables or a calculator:\n",
    "\n",
    "P(Z≤1)≈0.8413\n",
    "\n",
    "So:\n",
    "\n",
    "P(X>60)=1−0.8413=0.1587\n"
   ]
  },
  {
   "cell_type": "markdown",
   "id": "87ed4889-5dc3-43c2-9428-4b5ca8bc160d",
   "metadata": {},
   "source": [
    "#Answer   7:\n",
    "\n",
    "Uniform Distribution:\n",
    "A uniform distribution is a type of probability distribution in which all outcomes are equally likely. Every value in the distribution has the same probability.\n",
    "\n",
    "Example:\n",
    "Rolling a fair six-sided die. Each side (1 through 6) has an equal probability of 1/6.\n"
   ]
  },
  {
   "cell_type": "code",
   "execution_count": 1,
   "id": "585cf1f6-7366-4c68-8247-7b626f7230a5",
   "metadata": {},
   "outputs": [],
   "source": [
    "#Answer  8 :\n",
    "\n",
    "\n"
   ]
  },
  {
   "cell_type": "code",
   "execution_count": 1,
   "id": "30a830f6-6c39-4c41-9bb1-4ad3c5f969a2",
   "metadata": {},
   "outputs": [],
   "source": [
    "#Answer   :\n",
    "\n",
    "\n"
   ]
  },
  {
   "cell_type": "code",
   "execution_count": null,
   "id": "f0be03e9-094a-4531-8abf-02a01ff00b9f",
   "metadata": {},
   "outputs": [],
   "source": []
  }
 ],
 "metadata": {
  "kernelspec": {
   "display_name": "Python 3 (ipykernel)",
   "language": "python",
   "name": "python3"
  },
  "language_info": {
   "codemirror_mode": {
    "name": "ipython",
    "version": 3
   },
   "file_extension": ".py",
   "mimetype": "text/x-python",
   "name": "python",
   "nbconvert_exporter": "python",
   "pygments_lexer": "ipython3",
   "version": "3.10.8"
  }
 },
 "nbformat": 4,
 "nbformat_minor": 5
}
