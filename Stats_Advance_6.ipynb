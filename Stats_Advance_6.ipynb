{
 "cells": [
  {
   "cell_type": "markdown",
   "id": "229041a6-8fdc-4691-aa27-b814b4203c8d",
   "metadata": {},
   "source": [
    "#Answer  1 :\n",
    "\n",
    "\n",
    "\n",
    "ANOVA relies on several assumptions to ensure valid results:\n",
    "\n",
    "Normality: The residuals (errors) for each group should be normally distributed. Violation: Non-normal residuals can lead to inflated Type I error (false positives).\n",
    "Homogeneity of variance: The variances of the dependent variable should be equal across all groups. Violation: Unequal variances can affect the F-statistic's accuracy.\n",
    "Independence: Observations within and between groups must be independent. Violation: Dependence can make the F-statistic unreliable.\n",
    "Random sampling: Groups should be formed by random sampling from the population. Violation: Non-random sampling can bias the results."
   ]
  },
  {
   "cell_type": "markdown",
   "id": "abba6a8f-b2ac-4da2-b89c-f1458be77910",
   "metadata": {},
   "source": [
    "#Answer 2  :\n",
    "\n",
    "\n",
    "One-way ANOVA: Compares means between two or more groups with one independent variable (e.g., comparing weight loss with three diets).\n",
    "Two-way ANOVA: Examines the effects of two independent variables and their interaction (e.g., software program and experience level on task completion time).\n",
    "Repeated measures ANOVA: Analyzes data where the same subjects are measured under multiple conditions (e.g., daily sales of three stores).\n"
   ]
  },
  {
   "cell_type": "markdown",
   "id": "5ff95f53-7a64-4be0-9b1b-31d35ecda25f",
   "metadata": {},
   "source": [
    "#Answer  3 :\n",
    "\n",
    "\n",
    "ANOVA partitions the total variability (sum of squares) in the data into two components:\n",
    "\n",
    "Explained sum of squares (SSE): Represents the variation attributable to the independent variable(s).\n",
    "Residual sum of squares (SSR): Represents the unexplained variation due to error or other factors.\n"
   ]
  },
  {
   "cell_type": "code",
   "execution_count": 1,
   "id": "9ba069d1-6b09-45b7-a0d3-dcfc903e4995",
   "metadata": {},
   "outputs": [
    {
     "name": "stdout",
     "output_type": "stream",
     "text": [
      "SST: 60.0, SSB: 54.0, SSW: 6.0\n"
     ]
    }
   ],
   "source": [
    "#Answer  4 :\n",
    "\n",
    "import numpy as np\n",
    "import pandas as pd\n",
    "\n",
    "# Example data\n",
    "data = {'Group': ['A', 'A', 'A', 'B', 'B', 'B', 'C', 'C', 'C'],\n",
    "        'Value': [1, 2, 3, 4, 5, 6, 7, 8, 9]}\n",
    "df = pd.DataFrame(data)\n",
    "\n",
    "# Overall mean\n",
    "overall_mean = df['Value'].mean()\n",
    "\n",
    "# Group means\n",
    "group_means = df.groupby('Group')['Value'].mean()\n",
    "\n",
    "# Total sum of squares (SST)\n",
    "sst = ((df['Value'] - overall_mean) ** 2).sum()\n",
    "\n",
    "# Between-groups sum of squares (SSB)\n",
    "ssb = sum(df.groupby('Group').size() * (group_means - overall_mean) ** 2)\n",
    "\n",
    "# Within-groups sum of squares (SSW)\n",
    "ssw = ((df['Value'] - df['Group'].map(group_means)) ** 2).sum()\n",
    "\n",
    "print(f\"SST: {sst}, SSB: {ssb}, SSW: {ssw}\")\n"
   ]
  },
  {
   "cell_type": "code",
   "execution_count": 2,
   "id": "0cb88796-14f0-4ee5-a76b-4eac40166e3e",
   "metadata": {},
   "outputs": [
    {
     "name": "stdout",
     "output_type": "stream",
     "text": [
      "F-statistic: 6.229115357571769, p-value: 0.0025308938971832957\n"
     ]
    }
   ],
   "source": [
    "#Answer 5  :\n",
    "\n",
    "import pandas as pd\n",
    "import numpy as np\n",
    "import scipy.stats as stats\n",
    "\n",
    "# Generating example data\n",
    "np.random.seed(0)\n",
    "diet_A = np.random.normal(5, 2, 50)\n",
    "diet_B = np.random.normal(6, 2, 50)\n",
    "diet_C = np.random.normal(4, 2, 50)\n",
    "\n",
    "data = {'Diet': ['A'] * 50 + ['B'] * 50 + ['C'] * 50,\n",
    "        'Weight_Loss': np.concatenate([diet_A, diet_B, diet_C])}\n",
    "df = pd.DataFrame(data)\n",
    "\n",
    "# Performing One-Way ANOVA\n",
    "f_stat, p_value = stats.f_oneway(df[df['Diet'] == 'A']['Weight_Loss'],\n",
    "                                 df[df['Diet'] == 'B']['Weight_Loss'],\n",
    "                                 df[df['Diet'] == 'C']['Weight_Loss'])\n",
    "\n",
    "print(f\"F-statistic: {f_stat}, p-value: {p_value}\")\n",
    "\n",
    "\n"
   ]
  },
  {
   "cell_type": "markdown",
   "id": "08fbf974-ac49-43d6-8a41-c19dc97c1013",
   "metadata": {},
   "source": [
    "#Answer  6 :\n",
    "\n",
    "\n",
    "An F-statistic of 5.23 and a p-value of 0.02 suggest statistically significant differences between the means of at least two groups (reject the null hypothesis of no difference). However, this doesn't tell you which groups differ. You might need post-hoc tests like Tukey's HSD to identify specific group differences.\n"
   ]
  },
  {
   "cell_type": "markdown",
   "id": "023caf7d-5690-4a32-919b-c8f4227792f0",
   "metadata": {},
   "source": [
    "#Answer  7 :\n",
    "\n",
    "\n",
    "\n",
    "Missing data can be handled in various ways, each with potential consequences:\n",
    "\n",
    "Listwise deletion: Removes entire rows with missing values. Can lead to bias if missingness is non-random.\n",
    "Mean/median imputation: Replaces missing values with the mean/median of the group. May underestimate variability.\n",
    "Model-based methods: Use statistical models to estimate missing values. Can be computationally intensive."
   ]
  },
  {
   "cell_type": "markdown",
   "id": "a8759669-dbaa-4edb-a0e1-b6fa24a8664c",
   "metadata": {},
   "source": [
    "#Answer 8  :\n",
    "\n",
    "Q8. Common Post-hoc Tests after ANOVA\n",
    "\n",
    "Here are some common post-hoc tests used after ANOVA, along with their applications:\n",
    "\n",
    "Tukey's Honest Significant Difference (HSD): A conservative test for pairwise comparisons between all groups, controlling the family-wise error rate (FWER). Useful when you want to compare all possible pairs while maintaining a low chance of false positives.\n",
    "Scheffé's Test: Another multiple comparison test, but less conservative than Tukey's HSD. Useful when you have a smaller number of groups and want more power to detect differences.\n",
    "Bonferroni Correction: A simple method to adjust p-values from multiple comparisons, but may be overly conservative, leading to missed true differences.\n",
    "Example of Using Post-hoc Tests:\n",
    "\n",
    "Suppose you run a one-way ANOVA and find a significant difference. You can then use Tukey's HSD to identify which pairs of groups have statistically different means.\n",
    "\n"
   ]
  },
  {
   "cell_type": "code",
   "execution_count": 3,
   "id": "a38706c6-7999-40bf-88ca-8926ca2b7385",
   "metadata": {},
   "outputs": [
    {
     "name": "stdout",
     "output_type": "stream",
     "text": [
      "F-statistic: 6.229115357571769, p-value: 0.0025308938971832957\n"
     ]
    }
   ],
   "source": [
    "#Answer 9  :\n",
    "\n",
    "import pandas as pd\n",
    "import numpy as np\n",
    "import scipy.stats as stats\n",
    "\n",
    "# Generating example data\n",
    "np.random.seed(0)\n",
    "diet_A = np.random.normal(5, 2, 50)\n",
    "diet_B = np.random.normal(6, 2, 50)\n",
    "diet_C = np.random.normal(4, 2, 50)\n",
    "\n",
    "data = {'Diet': ['A'] * 50 + ['B'] * 50 + ['C'] * 50,\n",
    "        'Weight_Loss': np.concatenate([diet_A, diet_B, diet_C])}\n",
    "df = pd.DataFrame(data)\n",
    "\n",
    "# Performing One-Way ANOVA\n",
    "f_stat, p_value = stats.f_oneway(df[df['Diet'] == 'A']['Weight_Loss'],\n",
    "                                 df[df['Diet'] == 'B']['Weight_Loss'],\n",
    "                                 df[df['Diet'] == 'C']['Weight_Loss'])\n",
    "\n",
    "print(f\"F-statistic: {f_stat}, p-value: {p_value}\")\n"
   ]
  },
  {
   "cell_type": "code",
   "execution_count": 4,
   "id": "7af5fd99-44b7-4536-9a8b-30e75a82deef",
   "metadata": {},
   "outputs": [
    {
     "name": "stdout",
     "output_type": "stream",
     "text": [
      "                              sum_sq    df         F    PR(>F)\n",
      "C(Program)                 11.759094   2.0  1.421073  0.247199\n",
      "C(Experience)              15.955992   1.0  3.856527  0.052860\n",
      "C(Program):C(Experience)    5.899393   2.0  0.712935  0.493145\n",
      "Residual                  347.541523  84.0       NaN       NaN\n"
     ]
    }
   ],
   "source": [
    "#Answer  10 :\n",
    "\n",
    "\n",
    "import pandas as pd\n",
    "import statsmodels.api as sm\n",
    "from statsmodels.formula.api import ols\n",
    "\n",
    "# Generating example data\n",
    "np.random.seed(0)\n",
    "program = np.tile(['A', 'B', 'C'], 30)\n",
    "experience = np.repeat(['novice', 'experienced'], 45)\n",
    "time = np.random.normal(10, 2, 90)\n",
    "\n",
    "data = {'Program': program,\n",
    "        'Experience': experience,\n",
    "        'Time': time}\n",
    "df = pd.DataFrame(data)\n",
    "\n",
    "# Performing Two-Way ANOVA\n",
    "model = ols('Time ~ C(Program) * C(Experience)', data=df).fit()\n",
    "anova_table = sm.stats.anova_lm(model, typ=2)\n",
    "\n",
    "print(anova_table)\n",
    "\n"
   ]
  },
  {
   "cell_type": "code",
   "execution_count": 5,
   "id": "61e116f9-489a-402b-9c79-305bc6eeaca8",
   "metadata": {},
   "outputs": [
    {
     "name": "stdout",
     "output_type": "stream",
     "text": [
      "t-statistic: -1.55, p-value: 0.1588\n",
      "There is no statistically significant difference in test scores between the control and experimental groups.\n"
     ]
    }
   ],
   "source": [
    "#Answer  11 :\n",
    "\n",
    "import scipy.stats as stats\n",
    "\n",
    "# Sample data (replace with actual data)\n",
    "control_scores = [80, 75, 88, 92, 85]\n",
    "experimental_scores = [90, 82, 95, 98, 87]\n",
    "\n",
    "# Perform two-sample t-test\n",
    "t_statistic, p_value = stats.ttest_ind(control_scores, experimental_scores)\n",
    "\n",
    "# Print results\n",
    "print(f\"t-statistic: {t_statistic:.2f}, p-value: {p_value:.4f}\")\n",
    "\n",
    "if p_value < 0.05:\n",
    "    print(\"There is a statistically significant difference in test scores between the control and experimental groups.\")\n",
    "    # Consider a post-hoc test (e.g., Mann-Whitney U test) if data is not normally distributed.\n",
    "else:\n",
    "    print(\"There is no statistically significant difference in test scores between the control and experimental groups.\")\n",
    "\n",
    "\n"
   ]
  },
  {
   "cell_type": "code",
   "execution_count": 6,
   "id": "d87dded9-d13c-47e3-8a27-b803a9d2dae6",
   "metadata": {},
   "outputs": [
    {
     "name": "stdout",
     "output_type": "stream",
     "text": [
      "               Anova\n",
      "===================================\n",
      "      F Value Num DF  Den DF Pr > F\n",
      "-----------------------------------\n",
      "Store  0.9395 2.0000 58.0000 0.3967\n",
      "===================================\n",
      "\n",
      "No significant differences found.\n"
     ]
    }
   ],
   "source": [
    "#Answer 12  :\n",
    "\n",
    "import pandas as pd\n",
    "import numpy as np\n",
    "from statsmodels.stats.anova import AnovaRM\n",
    "\n",
    "# Generating example data\n",
    "np.random.seed(0)\n",
    "days = np.arange(1, 31)\n",
    "store_A_sales = np.random.normal(100, 10, 30)\n",
    "store_B_sales = np.random.normal(110, 10, 30)\n",
    "store_C_sales = np.random.normal(105, 10, 30)\n",
    "\n",
    "data = {\n",
    "    'Day': np.tile(days, 3),\n",
    "    'Store': np.repeat(['A', 'B', 'C'], 30),\n",
    "    'Sales': np.concatenate([store_A_sales, store_B_sales, store_C_sales])\n",
    "}\n",
    "df = pd.DataFrame(data)\n",
    "\n",
    "# Performing Repeated Measures ANOVA\n",
    "aovrm = AnovaRM(df, 'Sales', 'Day', within=['Store'])\n",
    "res = aovrm.fit()\n",
    "\n",
    "print(res)\n",
    "\n",
    "# If the results are significant, follow up with a post-hoc test\n",
    "if res.anova_table['Pr > F'][0] < 0.05:\n",
    "    print(\"Significant differences found. Proceeding with post-hoc test.\")\n",
    "\n",
    "    # Post-hoc test (Pairwise comparisons using Tukey's HSD)\n",
    "    from statsmodels.stats.multicomp import pairwise_tukeyhsd\n",
    "    \n",
    "    posthoc = pairwise_tukeyhsd(df['Sales'], df['Store'], alpha=0.05)\n",
    "    print(posthoc)\n",
    "else:\n",
    "    print(\"No significant differences found.\")\n"
   ]
  },
  {
   "cell_type": "code",
   "execution_count": null,
   "id": "bc2de3a2-de5a-4cdd-a216-c04f60597f5a",
   "metadata": {},
   "outputs": [],
   "source": []
  }
 ],
 "metadata": {
  "kernelspec": {
   "display_name": "Python 3 (ipykernel)",
   "language": "python",
   "name": "python3"
  },
  "language_info": {
   "codemirror_mode": {
    "name": "ipython",
    "version": 3
   },
   "file_extension": ".py",
   "mimetype": "text/x-python",
   "name": "python",
   "nbconvert_exporter": "python",
   "pygments_lexer": "ipython3",
   "version": "3.10.8"
  }
 },
 "nbformat": 4,
 "nbformat_minor": 5
}
